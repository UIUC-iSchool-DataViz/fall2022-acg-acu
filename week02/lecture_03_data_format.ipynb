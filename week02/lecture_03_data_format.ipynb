{
 "cells": [
  {
   "cell_type": "code",
   "execution_count": 1,
   "metadata": {},
   "outputs": [],
   "source": [
    "# ! pip install matplotlib\n",
    "# ! pip install numpy\n",
    "# ! pip install h5py"
   ]
  },
  {
   "cell_type": "code",
   "execution_count": 1,
   "metadata": {},
   "outputs": [],
   "source": [
    "import json\n",
    "import h5py\n",
    "import numpy as np"
   ]
  },
  {
   "cell_type": "markdown",
   "metadata": {},
   "source": [
    "# CSV"
   ]
  },
  {
   "cell_type": "code",
   "execution_count": 3,
   "metadata": {},
   "outputs": [
    {
     "name": "stdout",
     "output_type": "stream",
     "text": [
      "--2022-08-30 16:41:46--  https://think.cs.vt.edu/corgis/datasets/csv/airlines/airlines.csv\n",
      "Resolving think.cs.vt.edu (think.cs.vt.edu)... 128.173.236.79\n",
      "Connecting to think.cs.vt.edu (think.cs.vt.edu)|128.173.236.79|:443... connected.\n",
      "HTTP request sent, awaiting response... 200 OK\n",
      "Length: 2051732 (2.0M) [text/csv]\n",
      "Saving to: ‘airlines.csv.1’\n",
      "\n",
      "airlines.csv.1      100%[===================>]   1.96M  10.2MB/s    in 0.2s    \n",
      "\n",
      "2022-08-30 16:41:46 (10.2 MB/s) - ‘airlines.csv.1’ saved [2051732/2051732]\n",
      "\n"
     ]
    }
   ],
   "source": [
    "!wget https://think.cs.vt.edu/corgis/datasets/csv/airlines/airlines.csv"
   ]
  },
  {
   "cell_type": "code",
   "execution_count": 7,
   "metadata": {},
   "outputs": [
    {
     "name": "stdout",
     "output_type": "stream",
     "text": [
      "4409\n"
     ]
    }
   ],
   "source": [
    "f = 'airlines.csv'\n",
    "\n",
    "with open(f, 'r') as fin:\n",
    "    data = fin.readlines()\n",
    "    \n",
    "print(len(data))"
   ]
  },
  {
   "cell_type": "code",
   "execution_count": 8,
   "metadata": {},
   "outputs": [
    {
     "data": {
      "text/plain": [
       "'\"Airport.Code\",\"Airport.Name\",\"Time.Label\",\"Time.Month\",\"Time.Month Name\",\"Time.Year\",\"Statistics.# of Delays.Carrier\",\"Statistics.# of Delays.Late Aircraft\",\"Statistics.# of Delays.National Aviation System\",\"Statistics.# of Delays.Security\",\"Statistics.# of Delays.Weather\",\"Statistics.Carriers.Names\",\"Statistics.Carriers.Total\",\"Statistics.Flights.Cancelled\",\"Statistics.Flights.Delayed\",\"Statistics.Flights.Diverted\",\"Statistics.Flights.On Time\",\"Statistics.Flights.Total\",\"Statistics.Minutes Delayed.Carrier\",\"Statistics.Minutes Delayed.Late Aircraft\",\"Statistics.Minutes Delayed.National Aviation System\",\"Statistics.Minutes Delayed.Security\",\"Statistics.Minutes Delayed.Total\",\"Statistics.Minutes Delayed.Weather\"\\n'"
      ]
     },
     "execution_count": 8,
     "metadata": {},
     "output_type": "execute_result"
    }
   ],
   "source": [
    "data[0]"
   ]
  },
  {
   "cell_type": "code",
   "execution_count": 9,
   "metadata": {},
   "outputs": [
    {
     "data": {
      "text/plain": [
       "'\"ATL\",\"Atlanta, GA: Hartsfield-Jackson Atlanta International\",\"2003/06\",\"6\",\"June\",\"2003\",\"1009\",\"1275\",\"3217\",\"17\",\"328\",\"American Airlines Inc.,JetBlue Airways,Continental Air Lines Inc.,Delta Air Lines Inc.,Atlantic Southeast Airlines,AirTran Airways Corporation,America West Airlines Inc.,Northwest Airlines Inc.,ExpressJet Airlines Inc.,United Air Lines Inc.,US Airways Inc.\",\"11\",\"216\",\"5843\",\"27\",\"23974\",\"30060\",\"61606\",\"68335\",\"118831\",\"518\",\"268764\",\"19474\"\\n'"
      ]
     },
     "execution_count": 9,
     "metadata": {},
     "output_type": "execute_result"
    }
   ],
   "source": [
    "data[1]"
   ]
  },
  {
   "cell_type": "code",
   "execution_count": 10,
   "metadata": {},
   "outputs": [
    {
     "data": {
      "text/plain": [
       "'\"BOS\",\"Boston, MA: Logan International\",\"2003/06\",\"6\",\"June\",\"2003\",\"374\",\"495\",\"685\",\"3\",\"66\",\"American Airlines Inc.,Alaska Airlines Inc.,Continental Air Lines Inc.,Atlantic Coast Airlines,Delta Air Lines Inc.,Atlantic Southeast Airlines,AirTran Airways Corporation,America West Airlines Inc.,American Eagle Airlines Inc.,Northwest Airlines Inc.,ExpressJet Airlines Inc.,ATA Airlines d/b/a ATA,United Air Lines Inc.,US Airways Inc.\",\"14\",\"138\",\"1623\",\"3\",\"7875\",\"9639\",\"20319\",\"28189\",\"24400\",\"99\",\"77167\",\"4160\"\\n'"
      ]
     },
     "execution_count": 10,
     "metadata": {},
     "output_type": "execute_result"
    }
   ],
   "source": [
    "data[2]"
   ]
  },
  {
   "cell_type": "code",
   "execution_count": 11,
   "metadata": {},
   "outputs": [
    {
     "data": {
      "text/plain": [
       "'\"TPA\",\"Tampa, FL: Tampa International\",\"2016/01\",\"1\",\"January\",\"2016\",\"410\",\"342\",\"312\",\"2\",\"27\",\"American Airlines Inc.,Alaska Airlines Inc.,JetBlue Airways,Delta Air Lines Inc.,Frontier Airlines Inc.,Spirit Air Lines,United Air Lines Inc.,Southwest Airlines Co.\",\"8\",\"146\",\"1095\",\"7\",\"4748\",\"5996\",\"22557\",\"21164\",\"11423\",\"37\",\"57774\",\"2593\"\\n'"
      ]
     },
     "execution_count": 11,
     "metadata": {},
     "output_type": "execute_result"
    }
   ],
   "source": [
    "data[-1]"
   ]
  },
  {
   "cell_type": "code",
   "execution_count": 12,
   "metadata": {},
   "outputs": [
    {
     "data": {
      "text/plain": [
       "['\"ATL\"',\n",
       " '\"Atlanta',\n",
       " ' GA: Hartsfield-Jackson Atlanta International\"',\n",
       " '\"2003/06\"',\n",
       " '\"6\"',\n",
       " '\"June\"',\n",
       " '\"2003\"',\n",
       " '\"1009\"',\n",
       " '\"1275\"',\n",
       " '\"3217\"',\n",
       " '\"17\"',\n",
       " '\"328\"',\n",
       " '\"American Airlines Inc.',\n",
       " 'JetBlue Airways',\n",
       " 'Continental Air Lines Inc.',\n",
       " 'Delta Air Lines Inc.',\n",
       " 'Atlantic Southeast Airlines',\n",
       " 'AirTran Airways Corporation',\n",
       " 'America West Airlines Inc.',\n",
       " 'Northwest Airlines Inc.',\n",
       " 'ExpressJet Airlines Inc.',\n",
       " 'United Air Lines Inc.',\n",
       " 'US Airways Inc.\"',\n",
       " '\"11\"',\n",
       " '\"216\"',\n",
       " '\"5843\"',\n",
       " '\"27\"',\n",
       " '\"23974\"',\n",
       " '\"30060\"',\n",
       " '\"61606\"',\n",
       " '\"68335\"',\n",
       " '\"118831\"',\n",
       " '\"518\"',\n",
       " '\"268764\"',\n",
       " '\"19474\"\\n']"
      ]
     },
     "execution_count": 12,
     "metadata": {},
     "output_type": "execute_result"
    }
   ],
   "source": [
    "line = data[1].split(',')\n",
    "line"
   ]
  },
  {
   "cell_type": "code",
   "execution_count": 13,
   "metadata": {},
   "outputs": [
    {
     "name": "stdout",
     "output_type": "stream",
     "text": [
      "\"ATL\"\n"
     ]
    }
   ],
   "source": [
    "print(line[0])"
   ]
  },
  {
   "cell_type": "code",
   "execution_count": 14,
   "metadata": {},
   "outputs": [
    {
     "name": "stdout",
     "output_type": "stream",
     "text": [
      "<class 'str'>\n"
     ]
    }
   ],
   "source": [
    "print(type(line[0]))"
   ]
  },
  {
   "cell_type": "code",
   "execution_count": 16,
   "metadata": {},
   "outputs": [
    {
     "name": "stdout",
     "output_type": "stream",
     "text": [
      "\"2003\"\n"
     ]
    }
   ],
   "source": [
    "print(line[6])"
   ]
  },
  {
   "cell_type": "code",
   "execution_count": 17,
   "metadata": {},
   "outputs": [
    {
     "name": "stdout",
     "output_type": "stream",
     "text": [
      "<class 'str'>\n"
     ]
    }
   ],
   "source": [
    "print(type(line[6]))"
   ]
  },
  {
   "cell_type": "markdown",
   "metadata": {},
   "source": [
    "# JSON"
   ]
  },
  {
   "cell_type": "code",
   "execution_count": 4,
   "metadata": {},
   "outputs": [
    {
     "name": "stdout",
     "output_type": "stream",
     "text": [
      "--2022-08-30 16:42:25--  https://think.cs.vt.edu/corgis/datasets/json/airlines/airlines.json\n",
      "Resolving think.cs.vt.edu (think.cs.vt.edu)... 128.173.236.79\n",
      "Connecting to think.cs.vt.edu (think.cs.vt.edu)|128.173.236.79|:443... connected.\n",
      "HTTP request sent, awaiting response... 200 OK\n",
      "Length: 4964701 (4.7M) [application/json]\n",
      "Saving to: ‘airlines.json.1’\n",
      "\n",
      "airlines.json.1     100%[===================>]   4.73M  19.4MB/s    in 0.2s    \n",
      "\n",
      "2022-08-30 16:42:26 (19.4 MB/s) - ‘airlines.json.1’ saved [4964701/4964701]\n",
      "\n"
     ]
    }
   ],
   "source": [
    "!wget https://think.cs.vt.edu/corgis/datasets/json/airlines/airlines.json"
   ]
  },
  {
   "cell_type": "code",
   "execution_count": 2,
   "metadata": {},
   "outputs": [
    {
     "name": "stdout",
     "output_type": "stream",
     "text": [
      "4408\n"
     ]
    }
   ],
   "source": [
    "f = 'airlines.json'\n",
    "\n",
    "with open(f, 'r') as fin:\n",
    "    data = json.load(fin)\n",
    "\n",
    "print(len(data))"
   ]
  },
  {
   "cell_type": "code",
   "execution_count": 3,
   "metadata": {},
   "outputs": [
    {
     "data": {
      "text/plain": [
       "{'Airport': {'Code': 'ATL',\n",
       "  'Name': 'Atlanta, GA: Hartsfield-Jackson Atlanta International'},\n",
       " 'Time': {'Label': '2003/06', 'Month': 6, 'Month Name': 'June', 'Year': 2003},\n",
       " 'Statistics': {'# of Delays': {'Carrier': 1009,\n",
       "   'Late Aircraft': 1275,\n",
       "   'National Aviation System': 3217,\n",
       "   'Security': 17,\n",
       "   'Weather': 328},\n",
       "  'Carriers': {'Names': 'American Airlines Inc.,JetBlue Airways,Continental Air Lines Inc.,Delta Air Lines Inc.,Atlantic Southeast Airlines,AirTran Airways Corporation,America West Airlines Inc.,Northwest Airlines Inc.,ExpressJet Airlines Inc.,United Air Lines Inc.,US Airways Inc.',\n",
       "   'Total': 11},\n",
       "  'Flights': {'Cancelled': 216,\n",
       "   'Delayed': 5843,\n",
       "   'Diverted': 27,\n",
       "   'On Time': 23974,\n",
       "   'Total': 30060},\n",
       "  'Minutes Delayed': {'Carrier': 61606,\n",
       "   'Late Aircraft': 68335,\n",
       "   'National Aviation System': 118831,\n",
       "   'Security': 518,\n",
       "   'Total': 268764,\n",
       "   'Weather': 19474}}}"
      ]
     },
     "execution_count": 3,
     "metadata": {},
     "output_type": "execute_result"
    }
   ],
   "source": [
    "data[0]"
   ]
  },
  {
   "cell_type": "code",
   "execution_count": 4,
   "metadata": {},
   "outputs": [
    {
     "data": {
      "text/plain": [
       "[{'Airport': {'Code': 'ATL',\n",
       "   'Name': 'Atlanta, GA: Hartsfield-Jackson Atlanta International'},\n",
       "  'Time': {'Label': '2003/06', 'Month': 6, 'Month Name': 'June', 'Year': 2003},\n",
       "  'Statistics': {'# of Delays': {'Carrier': 1009,\n",
       "    'Late Aircraft': 1275,\n",
       "    'National Aviation System': 3217,\n",
       "    'Security': 17,\n",
       "    'Weather': 328},\n",
       "   'Carriers': {'Names': 'American Airlines Inc.,JetBlue Airways,Continental Air Lines Inc.,Delta Air Lines Inc.,Atlantic Southeast Airlines,AirTran Airways Corporation,America West Airlines Inc.,Northwest Airlines Inc.,ExpressJet Airlines Inc.,United Air Lines Inc.,US Airways Inc.',\n",
       "    'Total': 11},\n",
       "   'Flights': {'Cancelled': 216,\n",
       "    'Delayed': 5843,\n",
       "    'Diverted': 27,\n",
       "    'On Time': 23974,\n",
       "    'Total': 30060},\n",
       "   'Minutes Delayed': {'Carrier': 61606,\n",
       "    'Late Aircraft': 68335,\n",
       "    'National Aviation System': 118831,\n",
       "    'Security': 518,\n",
       "    'Total': 268764,\n",
       "    'Weather': 19474}}},\n",
       " {'Airport': {'Code': 'BOS', 'Name': 'Boston, MA: Logan International'},\n",
       "  'Time': {'Label': '2003/06', 'Month': 6, 'Month Name': 'June', 'Year': 2003},\n",
       "  'Statistics': {'# of Delays': {'Carrier': 374,\n",
       "    'Late Aircraft': 495,\n",
       "    'National Aviation System': 685,\n",
       "    'Security': 3,\n",
       "    'Weather': 66},\n",
       "   'Carriers': {'Names': 'American Airlines Inc.,Alaska Airlines Inc.,Continental Air Lines Inc.,Atlantic Coast Airlines,Delta Air Lines Inc.,Atlantic Southeast Airlines,AirTran Airways Corporation,America West Airlines Inc.,American Eagle Airlines Inc.,Northwest Airlines Inc.,ExpressJet Airlines Inc.,ATA Airlines d/b/a ATA,United Air Lines Inc.,US Airways Inc.',\n",
       "    'Total': 14},\n",
       "   'Flights': {'Cancelled': 138,\n",
       "    'Delayed': 1623,\n",
       "    'Diverted': 3,\n",
       "    'On Time': 7875,\n",
       "    'Total': 9639},\n",
       "   'Minutes Delayed': {'Carrier': 20319,\n",
       "    'Late Aircraft': 28189,\n",
       "    'National Aviation System': 24400,\n",
       "    'Security': 99,\n",
       "    'Total': 77167,\n",
       "    'Weather': 4160}}},\n",
       " {'Airport': {'Code': 'BWI',\n",
       "   'Name': 'Baltimore, MD: Baltimore/Washington International Thurgood Marshall'},\n",
       "  'Time': {'Label': '2003/06', 'Month': 6, 'Month Name': 'June', 'Year': 2003},\n",
       "  'Statistics': {'# of Delays': {'Carrier': 296,\n",
       "    'Late Aircraft': 477,\n",
       "    'National Aviation System': 389,\n",
       "    'Security': 8,\n",
       "    'Weather': 78},\n",
       "   'Carriers': {'Names': 'American Airlines Inc.,Continental Air Lines Inc.,Delta Air Lines Inc.,AirTran Airways Corporation,America West Airlines Inc.,American Eagle Airlines Inc.,Northwest Airlines Inc.,ExpressJet Airlines Inc.,United Air Lines Inc.,US Airways Inc.,Southwest Airlines Co.',\n",
       "    'Total': 11},\n",
       "   'Flights': {'Cancelled': 29,\n",
       "    'Delayed': 1245,\n",
       "    'Diverted': 15,\n",
       "    'On Time': 6998,\n",
       "    'Total': 8287},\n",
       "   'Minutes Delayed': {'Carrier': 13635,\n",
       "    'Late Aircraft': 26810,\n",
       "    'National Aviation System': 17556,\n",
       "    'Security': 278,\n",
       "    'Total': 64480,\n",
       "    'Weather': 6201}}}]"
      ]
     },
     "execution_count": 4,
     "metadata": {},
     "output_type": "execute_result"
    }
   ],
   "source": [
    "data[:3]"
   ]
  },
  {
   "cell_type": "code",
   "execution_count": 5,
   "metadata": {},
   "outputs": [
    {
     "data": {
      "text/plain": [
       "dict"
      ]
     },
     "execution_count": 5,
     "metadata": {},
     "output_type": "execute_result"
    }
   ],
   "source": [
    "type(data[0])"
   ]
  },
  {
   "cell_type": "code",
   "execution_count": 8,
   "metadata": {},
   "outputs": [
    {
     "data": {
      "text/plain": [
       "{'Code': 'ATL',\n",
       " 'Name': 'Atlanta, GA: Hartsfield-Jackson Atlanta International'}"
      ]
     },
     "execution_count": 8,
     "metadata": {},
     "output_type": "execute_result"
    }
   ],
   "source": [
    "one_record = data[0]\n",
    "one_record.get('Airport')"
   ]
  },
  {
   "cell_type": "code",
   "execution_count": 10,
   "metadata": {},
   "outputs": [
    {
     "name": "stdout",
     "output_type": "stream",
     "text": [
      "<class 'dict'>\n"
     ]
    }
   ],
   "source": [
    "print(type(one_record.get('Airport')))"
   ]
  },
  {
   "cell_type": "code",
   "execution_count": 11,
   "metadata": {},
   "outputs": [
    {
     "data": {
      "text/plain": [
       "24358"
      ]
     },
     "execution_count": 11,
     "metadata": {},
     "output_type": "execute_result"
    }
   ],
   "source": [
    "total_number_of_delays = 0\n",
    "\n",
    "for d in data:\n",
    "    airport_code = d.get('Airport').get('Code')\n",
    "    number_of_delay = d.get('Statistics').get('# of Delays').get('Weather')\n",
    "    \n",
    "    if airport_code == 'ORD':\n",
    "        total_number_of_delays += number_of_delay\n",
    "total_number_of_delays"
   ]
  },
  {
   "cell_type": "markdown",
   "metadata": {},
   "source": [
    "# HDF5"
   ]
  },
  {
   "cell_type": "code",
   "execution_count": 5,
   "metadata": {},
   "outputs": [
    {
     "name": "stdout",
     "output_type": "stream",
     "text": [
      "--2022-08-30 16:42:30--  https://raw.githubusercontent.com/TK-Hsiao/TK-Hsiao.github.io/master/data/airlines.h5\n",
      "Resolving raw.githubusercontent.com (raw.githubusercontent.com)... 185.199.110.133, 185.199.109.133, 185.199.108.133, ...\n",
      "Connecting to raw.githubusercontent.com (raw.githubusercontent.com)|185.199.110.133|:443... connected.\n",
      "HTTP request sent, awaiting response... 200 OK\n",
      "Length: 414424 (405K) [application/octet-stream]\n",
      "Saving to: ‘airlines.h5.1’\n",
      "\n",
      "airlines.h5.1       100%[===================>] 404.71K  --.-KB/s    in 0.02s   \n",
      "\n",
      "2022-08-30 16:42:30 (20.2 MB/s) - ‘airlines.h5.1’ saved [414424/414424]\n",
      "\n"
     ]
    }
   ],
   "source": [
    "!wget https://raw.githubusercontent.com/TK-Hsiao/TK-Hsiao.github.io/master/data/airlines.h5"
   ]
  },
  {
   "cell_type": "code",
   "execution_count": 15,
   "metadata": {},
   "outputs": [],
   "source": [
    "def printname(name):\n",
    "    print(name)"
   ]
  },
  {
   "cell_type": "code",
   "execution_count": 16,
   "metadata": {},
   "outputs": [
    {
     "name": "stdout",
     "output_type": "stream",
     "text": [
      "<class 'h5py._hl.files.File'>\n"
     ]
    }
   ],
   "source": [
    "hf = h5py.File('airlines.h5', 'r')\n",
    "print(type(hf))"
   ]
  },
  {
   "cell_type": "code",
   "execution_count": 17,
   "metadata": {},
   "outputs": [
    {
     "name": "stdout",
     "output_type": "stream",
     "text": [
      "ATL\n",
      "ATL/2003_carriers\n",
      "ATL/2004_carriers\n",
      "ATL/2005_carriers\n",
      "ATL/2006_carriers\n",
      "ATL/2007_carriers\n",
      "ATL/2008_carriers\n",
      "ATL/2009_carriers\n",
      "ATL/2010_carriers\n",
      "ATL/2011_carriers\n",
      "ATL/2012_carriers\n",
      "ATL/2013_carriers\n",
      "ATL/2014_carriers\n",
      "ATL/2015_carriers\n",
      "ATL/2016_carriers\n",
      "ATL/delays_in_2003\n",
      "ATL/delays_in_2004\n",
      "ATL/delays_in_2005\n",
      "ATL/delays_in_2006\n",
      "ATL/delays_in_2007\n",
      "ATL/delays_in_2008\n",
      "ATL/delays_in_2009\n",
      "ATL/delays_in_2010\n",
      "ATL/delays_in_2011\n",
      "ATL/delays_in_2012\n",
      "ATL/delays_in_2013\n",
      "ATL/delays_in_2014\n",
      "ATL/delays_in_2015\n",
      "ATL/delays_in_2016\n",
      "BOS\n",
      "BOS/2003_carriers\n",
      "BOS/2004_carriers\n",
      "BOS/2005_carriers\n",
      "BOS/2006_carriers\n",
      "BOS/2007_carriers\n",
      "BOS/2008_carriers\n",
      "BOS/2009_carriers\n",
      "BOS/2010_carriers\n",
      "BOS/2011_carriers\n",
      "BOS/2012_carriers\n",
      "BOS/2013_carriers\n",
      "BOS/2014_carriers\n",
      "BOS/2015_carriers\n",
      "BOS/2016_carriers\n",
      "BOS/delays_in_2003\n",
      "BOS/delays_in_2004\n",
      "BOS/delays_in_2005\n",
      "BOS/delays_in_2006\n",
      "BOS/delays_in_2007\n",
      "BOS/delays_in_2008\n",
      "BOS/delays_in_2009\n",
      "BOS/delays_in_2010\n",
      "BOS/delays_in_2011\n",
      "BOS/delays_in_2012\n",
      "BOS/delays_in_2013\n",
      "BOS/delays_in_2014\n",
      "BOS/delays_in_2015\n",
      "BOS/delays_in_2016\n",
      "BWI\n",
      "BWI/2003_carriers\n",
      "BWI/2004_carriers\n",
      "BWI/2005_carriers\n",
      "BWI/2006_carriers\n",
      "BWI/2007_carriers\n",
      "BWI/2008_carriers\n",
      "BWI/2009_carriers\n",
      "BWI/2010_carriers\n",
      "BWI/2011_carriers\n",
      "BWI/2012_carriers\n",
      "BWI/2013_carriers\n",
      "BWI/2014_carriers\n",
      "BWI/2015_carriers\n",
      "BWI/2016_carriers\n",
      "BWI/delays_in_2003\n",
      "BWI/delays_in_2004\n",
      "BWI/delays_in_2005\n",
      "BWI/delays_in_2006\n",
      "BWI/delays_in_2007\n",
      "BWI/delays_in_2008\n",
      "BWI/delays_in_2009\n",
      "BWI/delays_in_2010\n",
      "BWI/delays_in_2011\n",
      "BWI/delays_in_2012\n",
      "BWI/delays_in_2013\n",
      "BWI/delays_in_2014\n",
      "BWI/delays_in_2015\n",
      "BWI/delays_in_2016\n",
      "CLT\n",
      "CLT/2003_carriers\n",
      "CLT/2004_carriers\n",
      "CLT/2005_carriers\n",
      "CLT/2006_carriers\n",
      "CLT/2007_carriers\n",
      "CLT/2008_carriers\n",
      "CLT/2009_carriers\n",
      "CLT/2010_carriers\n",
      "CLT/2011_carriers\n",
      "CLT/2012_carriers\n",
      "CLT/2013_carriers\n",
      "CLT/2014_carriers\n",
      "CLT/2015_carriers\n",
      "CLT/2016_carriers\n",
      "CLT/delays_in_2003\n",
      "CLT/delays_in_2004\n",
      "CLT/delays_in_2005\n",
      "CLT/delays_in_2006\n",
      "CLT/delays_in_2007\n",
      "CLT/delays_in_2008\n",
      "CLT/delays_in_2009\n",
      "CLT/delays_in_2010\n",
      "CLT/delays_in_2011\n",
      "CLT/delays_in_2012\n",
      "CLT/delays_in_2013\n",
      "CLT/delays_in_2014\n",
      "CLT/delays_in_2015\n",
      "CLT/delays_in_2016\n",
      "DCA\n",
      "DCA/2003_carriers\n",
      "DCA/2004_carriers\n",
      "DCA/2005_carriers\n",
      "DCA/2006_carriers\n",
      "DCA/2007_carriers\n",
      "DCA/2008_carriers\n",
      "DCA/2009_carriers\n",
      "DCA/2010_carriers\n",
      "DCA/2011_carriers\n",
      "DCA/2012_carriers\n",
      "DCA/2013_carriers\n",
      "DCA/2014_carriers\n",
      "DCA/2015_carriers\n",
      "DCA/2016_carriers\n",
      "DCA/delays_in_2003\n",
      "DCA/delays_in_2004\n",
      "DCA/delays_in_2005\n",
      "DCA/delays_in_2006\n",
      "DCA/delays_in_2007\n",
      "DCA/delays_in_2008\n",
      "DCA/delays_in_2009\n",
      "DCA/delays_in_2010\n",
      "DCA/delays_in_2011\n",
      "DCA/delays_in_2012\n",
      "DCA/delays_in_2013\n",
      "DCA/delays_in_2014\n",
      "DCA/delays_in_2015\n",
      "DCA/delays_in_2016\n",
      "DEN\n",
      "DEN/2003_carriers\n",
      "DEN/2004_carriers\n",
      "DEN/2005_carriers\n",
      "DEN/2006_carriers\n",
      "DEN/2007_carriers\n",
      "DEN/2008_carriers\n",
      "DEN/2009_carriers\n",
      "DEN/2010_carriers\n",
      "DEN/2011_carriers\n",
      "DEN/2012_carriers\n",
      "DEN/2013_carriers\n",
      "DEN/2014_carriers\n",
      "DEN/2015_carriers\n",
      "DEN/2016_carriers\n",
      "DEN/delays_in_2003\n",
      "DEN/delays_in_2004\n",
      "DEN/delays_in_2005\n",
      "DEN/delays_in_2006\n",
      "DEN/delays_in_2007\n",
      "DEN/delays_in_2008\n",
      "DEN/delays_in_2009\n",
      "DEN/delays_in_2010\n",
      "DEN/delays_in_2011\n",
      "DEN/delays_in_2012\n",
      "DEN/delays_in_2013\n",
      "DEN/delays_in_2014\n",
      "DEN/delays_in_2015\n",
      "DEN/delays_in_2016\n",
      "DFW\n",
      "DFW/2003_carriers\n",
      "DFW/2004_carriers\n",
      "DFW/2005_carriers\n",
      "DFW/2006_carriers\n",
      "DFW/2007_carriers\n",
      "DFW/2008_carriers\n",
      "DFW/2009_carriers\n",
      "DFW/2010_carriers\n",
      "DFW/2011_carriers\n",
      "DFW/2012_carriers\n",
      "DFW/2013_carriers\n",
      "DFW/2014_carriers\n",
      "DFW/2015_carriers\n",
      "DFW/2016_carriers\n",
      "DFW/delays_in_2003\n",
      "DFW/delays_in_2004\n",
      "DFW/delays_in_2005\n",
      "DFW/delays_in_2006\n",
      "DFW/delays_in_2007\n",
      "DFW/delays_in_2008\n",
      "DFW/delays_in_2009\n",
      "DFW/delays_in_2010\n",
      "DFW/delays_in_2011\n",
      "DFW/delays_in_2012\n",
      "DFW/delays_in_2013\n",
      "DFW/delays_in_2014\n",
      "DFW/delays_in_2015\n",
      "DFW/delays_in_2016\n",
      "DTW\n",
      "DTW/2003_carriers\n",
      "DTW/2004_carriers\n",
      "DTW/2005_carriers\n",
      "DTW/2006_carriers\n",
      "DTW/2007_carriers\n",
      "DTW/2008_carriers\n",
      "DTW/2009_carriers\n",
      "DTW/2010_carriers\n",
      "DTW/2011_carriers\n",
      "DTW/2012_carriers\n",
      "DTW/2013_carriers\n",
      "DTW/2014_carriers\n",
      "DTW/2015_carriers\n",
      "DTW/2016_carriers\n",
      "DTW/delays_in_2003\n",
      "DTW/delays_in_2004\n",
      "DTW/delays_in_2005\n",
      "DTW/delays_in_2006\n",
      "DTW/delays_in_2007\n",
      "DTW/delays_in_2008\n",
      "DTW/delays_in_2009\n",
      "DTW/delays_in_2010\n",
      "DTW/delays_in_2011\n",
      "DTW/delays_in_2012\n",
      "DTW/delays_in_2013\n",
      "DTW/delays_in_2014\n",
      "DTW/delays_in_2015\n",
      "DTW/delays_in_2016\n",
      "EWR\n",
      "EWR/2003_carriers\n",
      "EWR/2004_carriers\n",
      "EWR/2005_carriers\n",
      "EWR/2006_carriers\n",
      "EWR/2007_carriers\n",
      "EWR/2008_carriers\n",
      "EWR/2009_carriers\n",
      "EWR/2010_carriers\n",
      "EWR/2011_carriers\n",
      "EWR/2012_carriers\n",
      "EWR/2013_carriers\n",
      "EWR/2014_carriers\n",
      "EWR/2015_carriers\n",
      "EWR/2016_carriers\n",
      "EWR/delays_in_2003\n",
      "EWR/delays_in_2004\n",
      "EWR/delays_in_2005\n",
      "EWR/delays_in_2006\n",
      "EWR/delays_in_2007\n",
      "EWR/delays_in_2008\n",
      "EWR/delays_in_2009\n",
      "EWR/delays_in_2010\n",
      "EWR/delays_in_2011\n",
      "EWR/delays_in_2012\n",
      "EWR/delays_in_2013\n",
      "EWR/delays_in_2014\n",
      "EWR/delays_in_2015\n",
      "EWR/delays_in_2016\n",
      "FLL\n",
      "FLL/2003_carriers\n",
      "FLL/2004_carriers\n",
      "FLL/2005_carriers\n",
      "FLL/2006_carriers\n",
      "FLL/2007_carriers\n",
      "FLL/2008_carriers\n",
      "FLL/2009_carriers\n",
      "FLL/2010_carriers\n",
      "FLL/2011_carriers\n",
      "FLL/2012_carriers\n",
      "FLL/2013_carriers\n",
      "FLL/2014_carriers\n",
      "FLL/2015_carriers\n",
      "FLL/2016_carriers\n",
      "FLL/delays_in_2003\n",
      "FLL/delays_in_2004\n",
      "FLL/delays_in_2005\n",
      "FLL/delays_in_2006\n",
      "FLL/delays_in_2007\n",
      "FLL/delays_in_2008\n",
      "FLL/delays_in_2009\n",
      "FLL/delays_in_2010\n",
      "FLL/delays_in_2011\n",
      "FLL/delays_in_2012\n",
      "FLL/delays_in_2013\n",
      "FLL/delays_in_2014\n",
      "FLL/delays_in_2015\n",
      "FLL/delays_in_2016\n",
      "IAD\n",
      "IAD/2003_carriers\n",
      "IAD/2004_carriers\n",
      "IAD/2005_carriers\n",
      "IAD/2006_carriers\n",
      "IAD/2007_carriers\n",
      "IAD/2008_carriers\n",
      "IAD/2009_carriers\n",
      "IAD/2010_carriers\n",
      "IAD/2011_carriers\n",
      "IAD/2012_carriers\n",
      "IAD/2013_carriers\n",
      "IAD/2014_carriers\n",
      "IAD/2015_carriers\n",
      "IAD/2016_carriers\n",
      "IAD/delays_in_2003\n",
      "IAD/delays_in_2004\n",
      "IAD/delays_in_2005\n",
      "IAD/delays_in_2006\n",
      "IAD/delays_in_2007\n",
      "IAD/delays_in_2008\n",
      "IAD/delays_in_2009\n",
      "IAD/delays_in_2010\n",
      "IAD/delays_in_2011\n",
      "IAD/delays_in_2012\n",
      "IAD/delays_in_2013\n",
      "IAD/delays_in_2014\n",
      "IAD/delays_in_2015\n",
      "IAD/delays_in_2016\n",
      "IAH\n",
      "IAH/2003_carriers\n",
      "IAH/2004_carriers\n",
      "IAH/2005_carriers\n",
      "IAH/2006_carriers\n",
      "IAH/2007_carriers\n",
      "IAH/2008_carriers\n",
      "IAH/2009_carriers\n",
      "IAH/2010_carriers\n",
      "IAH/2011_carriers\n",
      "IAH/2012_carriers\n",
      "IAH/2013_carriers\n",
      "IAH/2014_carriers\n",
      "IAH/2015_carriers\n",
      "IAH/2016_carriers\n",
      "IAH/delays_in_2003\n",
      "IAH/delays_in_2004\n",
      "IAH/delays_in_2005\n",
      "IAH/delays_in_2006\n",
      "IAH/delays_in_2007\n",
      "IAH/delays_in_2008\n",
      "IAH/delays_in_2009\n",
      "IAH/delays_in_2010\n",
      "IAH/delays_in_2011\n",
      "IAH/delays_in_2012\n",
      "IAH/delays_in_2013\n",
      "IAH/delays_in_2014\n",
      "IAH/delays_in_2015\n",
      "IAH/delays_in_2016\n",
      "JFK\n",
      "JFK/2003_carriers\n",
      "JFK/2004_carriers\n",
      "JFK/2005_carriers\n",
      "JFK/2006_carriers\n",
      "JFK/2007_carriers\n",
      "JFK/2008_carriers\n",
      "JFK/2009_carriers\n",
      "JFK/2010_carriers\n",
      "JFK/2011_carriers\n",
      "JFK/2012_carriers\n",
      "JFK/2013_carriers\n",
      "JFK/2014_carriers\n",
      "JFK/2015_carriers\n",
      "JFK/2016_carriers\n",
      "JFK/delays_in_2003\n",
      "JFK/delays_in_2004\n",
      "JFK/delays_in_2005\n",
      "JFK/delays_in_2006\n",
      "JFK/delays_in_2007\n",
      "JFK/delays_in_2008\n",
      "JFK/delays_in_2009\n",
      "JFK/delays_in_2010\n",
      "JFK/delays_in_2011\n",
      "JFK/delays_in_2012\n",
      "JFK/delays_in_2013\n",
      "JFK/delays_in_2014\n",
      "JFK/delays_in_2015\n",
      "JFK/delays_in_2016\n",
      "LAS\n",
      "LAS/2003_carriers\n",
      "LAS/2004_carriers\n",
      "LAS/2005_carriers\n",
      "LAS/2006_carriers\n",
      "LAS/2007_carriers\n",
      "LAS/2008_carriers\n",
      "LAS/2009_carriers\n",
      "LAS/2010_carriers\n",
      "LAS/2011_carriers\n",
      "LAS/2012_carriers\n",
      "LAS/2013_carriers\n",
      "LAS/2014_carriers\n",
      "LAS/2015_carriers\n",
      "LAS/2016_carriers\n",
      "LAS/delays_in_2003\n",
      "LAS/delays_in_2004\n",
      "LAS/delays_in_2005\n",
      "LAS/delays_in_2006\n",
      "LAS/delays_in_2007\n",
      "LAS/delays_in_2008\n",
      "LAS/delays_in_2009\n",
      "LAS/delays_in_2010\n",
      "LAS/delays_in_2011\n",
      "LAS/delays_in_2012\n",
      "LAS/delays_in_2013\n",
      "LAS/delays_in_2014\n",
      "LAS/delays_in_2015\n",
      "LAS/delays_in_2016\n",
      "LAX\n",
      "LAX/2003_carriers\n",
      "LAX/2004_carriers\n",
      "LAX/2005_carriers\n",
      "LAX/2006_carriers\n",
      "LAX/2007_carriers\n",
      "LAX/2008_carriers\n",
      "LAX/2009_carriers\n",
      "LAX/2010_carriers\n",
      "LAX/2011_carriers\n",
      "LAX/2012_carriers\n",
      "LAX/2013_carriers\n",
      "LAX/2014_carriers\n",
      "LAX/2015_carriers\n",
      "LAX/2016_carriers\n",
      "LAX/delays_in_2003\n",
      "LAX/delays_in_2004\n",
      "LAX/delays_in_2005\n",
      "LAX/delays_in_2006\n",
      "LAX/delays_in_2007\n",
      "LAX/delays_in_2008\n",
      "LAX/delays_in_2009\n",
      "LAX/delays_in_2010\n",
      "LAX/delays_in_2011\n",
      "LAX/delays_in_2012\n",
      "LAX/delays_in_2013\n",
      "LAX/delays_in_2014\n",
      "LAX/delays_in_2015\n",
      "LAX/delays_in_2016\n",
      "LGA\n",
      "LGA/2003_carriers\n",
      "LGA/2004_carriers\n",
      "LGA/2005_carriers\n",
      "LGA/2006_carriers\n",
      "LGA/2007_carriers\n",
      "LGA/2008_carriers\n",
      "LGA/2009_carriers\n",
      "LGA/2010_carriers\n",
      "LGA/2011_carriers\n",
      "LGA/2012_carriers\n",
      "LGA/2013_carriers\n",
      "LGA/2014_carriers\n",
      "LGA/2015_carriers\n",
      "LGA/2016_carriers\n",
      "LGA/delays_in_2003\n",
      "LGA/delays_in_2004\n",
      "LGA/delays_in_2005\n",
      "LGA/delays_in_2006\n",
      "LGA/delays_in_2007\n",
      "LGA/delays_in_2008\n",
      "LGA/delays_in_2009\n",
      "LGA/delays_in_2010\n",
      "LGA/delays_in_2011\n",
      "LGA/delays_in_2012\n",
      "LGA/delays_in_2013\n",
      "LGA/delays_in_2014\n",
      "LGA/delays_in_2015\n",
      "LGA/delays_in_2016\n",
      "MCO\n",
      "MCO/2003_carriers\n",
      "MCO/2004_carriers\n",
      "MCO/2005_carriers\n",
      "MCO/2006_carriers\n",
      "MCO/2007_carriers\n",
      "MCO/2008_carriers\n",
      "MCO/2009_carriers\n",
      "MCO/2010_carriers\n",
      "MCO/2011_carriers\n",
      "MCO/2012_carriers\n",
      "MCO/2013_carriers\n",
      "MCO/2014_carriers\n",
      "MCO/2015_carriers\n",
      "MCO/2016_carriers\n",
      "MCO/delays_in_2003\n",
      "MCO/delays_in_2004\n",
      "MCO/delays_in_2005\n",
      "MCO/delays_in_2006\n",
      "MCO/delays_in_2007\n",
      "MCO/delays_in_2008\n",
      "MCO/delays_in_2009\n",
      "MCO/delays_in_2010\n",
      "MCO/delays_in_2011\n",
      "MCO/delays_in_2012\n",
      "MCO/delays_in_2013\n",
      "MCO/delays_in_2014\n",
      "MCO/delays_in_2015\n",
      "MCO/delays_in_2016\n",
      "MDW\n",
      "MDW/2003_carriers\n",
      "MDW/2004_carriers\n",
      "MDW/2005_carriers\n",
      "MDW/2006_carriers\n",
      "MDW/2007_carriers\n",
      "MDW/2008_carriers\n",
      "MDW/2009_carriers\n",
      "MDW/2010_carriers\n",
      "MDW/2011_carriers\n",
      "MDW/2012_carriers\n",
      "MDW/2013_carriers\n",
      "MDW/2014_carriers\n",
      "MDW/2015_carriers\n",
      "MDW/2016_carriers\n",
      "MDW/delays_in_2003\n",
      "MDW/delays_in_2004\n",
      "MDW/delays_in_2005\n",
      "MDW/delays_in_2006\n",
      "MDW/delays_in_2007\n",
      "MDW/delays_in_2008\n",
      "MDW/delays_in_2009\n",
      "MDW/delays_in_2010\n",
      "MDW/delays_in_2011\n",
      "MDW/delays_in_2012\n",
      "MDW/delays_in_2013\n",
      "MDW/delays_in_2014\n",
      "MDW/delays_in_2015\n",
      "MDW/delays_in_2016\n",
      "MIA\n",
      "MIA/2003_carriers\n",
      "MIA/2004_carriers\n",
      "MIA/2005_carriers\n",
      "MIA/2006_carriers\n",
      "MIA/2007_carriers\n",
      "MIA/2008_carriers\n",
      "MIA/2009_carriers\n",
      "MIA/2010_carriers\n",
      "MIA/2011_carriers\n",
      "MIA/2012_carriers\n",
      "MIA/2013_carriers\n",
      "MIA/2014_carriers\n",
      "MIA/2015_carriers\n",
      "MIA/2016_carriers\n",
      "MIA/delays_in_2003\n",
      "MIA/delays_in_2004\n",
      "MIA/delays_in_2005\n",
      "MIA/delays_in_2006\n",
      "MIA/delays_in_2007\n",
      "MIA/delays_in_2008\n",
      "MIA/delays_in_2009\n",
      "MIA/delays_in_2010\n",
      "MIA/delays_in_2011\n",
      "MIA/delays_in_2012\n",
      "MIA/delays_in_2013\n",
      "MIA/delays_in_2014\n",
      "MIA/delays_in_2015\n",
      "MIA/delays_in_2016\n",
      "MSP\n",
      "MSP/2003_carriers\n",
      "MSP/2004_carriers\n",
      "MSP/2005_carriers\n",
      "MSP/2006_carriers\n",
      "MSP/2007_carriers\n",
      "MSP/2008_carriers\n",
      "MSP/2009_carriers\n",
      "MSP/2010_carriers\n",
      "MSP/2011_carriers\n",
      "MSP/2012_carriers\n",
      "MSP/2013_carriers\n",
      "MSP/2014_carriers\n",
      "MSP/2015_carriers\n",
      "MSP/2016_carriers\n",
      "MSP/delays_in_2003\n",
      "MSP/delays_in_2004\n",
      "MSP/delays_in_2005\n",
      "MSP/delays_in_2006\n",
      "MSP/delays_in_2007\n",
      "MSP/delays_in_2008\n",
      "MSP/delays_in_2009\n",
      "MSP/delays_in_2010\n",
      "MSP/delays_in_2011\n",
      "MSP/delays_in_2012\n",
      "MSP/delays_in_2013\n",
      "MSP/delays_in_2014\n",
      "MSP/delays_in_2015\n",
      "MSP/delays_in_2016\n",
      "ORD\n",
      "ORD/2003_carriers\n",
      "ORD/2004_carriers\n",
      "ORD/2005_carriers\n",
      "ORD/2006_carriers\n",
      "ORD/2007_carriers\n",
      "ORD/2008_carriers\n",
      "ORD/2009_carriers\n",
      "ORD/2010_carriers\n",
      "ORD/2011_carriers\n",
      "ORD/2012_carriers\n",
      "ORD/2013_carriers\n",
      "ORD/2014_carriers\n",
      "ORD/2015_carriers\n",
      "ORD/2016_carriers\n",
      "ORD/delays_in_2003\n",
      "ORD/delays_in_2004\n",
      "ORD/delays_in_2005\n",
      "ORD/delays_in_2006\n",
      "ORD/delays_in_2007\n",
      "ORD/delays_in_2008\n",
      "ORD/delays_in_2009\n",
      "ORD/delays_in_2010\n",
      "ORD/delays_in_2011\n",
      "ORD/delays_in_2012\n",
      "ORD/delays_in_2013\n",
      "ORD/delays_in_2014\n",
      "ORD/delays_in_2015\n",
      "ORD/delays_in_2016\n",
      "PDX\n",
      "PDX/2003_carriers\n",
      "PDX/2004_carriers\n",
      "PDX/2005_carriers\n",
      "PDX/2006_carriers\n",
      "PDX/2007_carriers\n",
      "PDX/2008_carriers\n",
      "PDX/2009_carriers\n",
      "PDX/2010_carriers\n",
      "PDX/2011_carriers\n",
      "PDX/2012_carriers\n",
      "PDX/2013_carriers\n",
      "PDX/2014_carriers\n",
      "PDX/2015_carriers\n",
      "PDX/2016_carriers\n",
      "PDX/delays_in_2003\n",
      "PDX/delays_in_2004\n",
      "PDX/delays_in_2005\n",
      "PDX/delays_in_2006\n",
      "PDX/delays_in_2007\n",
      "PDX/delays_in_2008\n",
      "PDX/delays_in_2009\n",
      "PDX/delays_in_2010\n",
      "PDX/delays_in_2011\n",
      "PDX/delays_in_2012\n",
      "PDX/delays_in_2013\n",
      "PDX/delays_in_2014\n",
      "PDX/delays_in_2015\n",
      "PDX/delays_in_2016\n",
      "PHL\n",
      "PHL/2003_carriers\n",
      "PHL/2004_carriers\n",
      "PHL/2005_carriers\n",
      "PHL/2006_carriers\n",
      "PHL/2007_carriers\n",
      "PHL/2008_carriers\n",
      "PHL/2009_carriers\n",
      "PHL/2010_carriers\n",
      "PHL/2011_carriers\n",
      "PHL/2012_carriers\n",
      "PHL/2013_carriers\n",
      "PHL/2014_carriers\n",
      "PHL/2015_carriers\n",
      "PHL/2016_carriers\n",
      "PHL/delays_in_2003\n",
      "PHL/delays_in_2004\n",
      "PHL/delays_in_2005\n",
      "PHL/delays_in_2006\n",
      "PHL/delays_in_2007\n",
      "PHL/delays_in_2008\n",
      "PHL/delays_in_2009\n",
      "PHL/delays_in_2010\n",
      "PHL/delays_in_2011\n",
      "PHL/delays_in_2012\n",
      "PHL/delays_in_2013\n",
      "PHL/delays_in_2014\n",
      "PHL/delays_in_2015\n",
      "PHL/delays_in_2016\n",
      "PHX\n",
      "PHX/2003_carriers\n",
      "PHX/2004_carriers\n",
      "PHX/2005_carriers\n",
      "PHX/2006_carriers\n",
      "PHX/2007_carriers\n",
      "PHX/2008_carriers\n",
      "PHX/2009_carriers\n",
      "PHX/2010_carriers\n",
      "PHX/2011_carriers\n",
      "PHX/2012_carriers\n",
      "PHX/2013_carriers\n",
      "PHX/2014_carriers\n",
      "PHX/2015_carriers\n",
      "PHX/2016_carriers\n",
      "PHX/delays_in_2003\n",
      "PHX/delays_in_2004\n",
      "PHX/delays_in_2005\n",
      "PHX/delays_in_2006\n",
      "PHX/delays_in_2007\n",
      "PHX/delays_in_2008\n",
      "PHX/delays_in_2009\n",
      "PHX/delays_in_2010\n",
      "PHX/delays_in_2011\n",
      "PHX/delays_in_2012\n",
      "PHX/delays_in_2013\n",
      "PHX/delays_in_2014\n",
      "PHX/delays_in_2015\n",
      "PHX/delays_in_2016\n",
      "SAN\n",
      "SAN/2003_carriers\n",
      "SAN/2004_carriers\n",
      "SAN/2005_carriers\n",
      "SAN/2006_carriers\n",
      "SAN/2007_carriers\n",
      "SAN/2008_carriers\n",
      "SAN/2009_carriers\n",
      "SAN/2010_carriers\n",
      "SAN/2011_carriers\n",
      "SAN/2012_carriers\n",
      "SAN/2013_carriers\n",
      "SAN/2014_carriers\n",
      "SAN/2015_carriers\n",
      "SAN/2016_carriers\n",
      "SAN/delays_in_2003\n",
      "SAN/delays_in_2004\n",
      "SAN/delays_in_2005\n",
      "SAN/delays_in_2006\n",
      "SAN/delays_in_2007\n",
      "SAN/delays_in_2008\n",
      "SAN/delays_in_2009\n",
      "SAN/delays_in_2010\n",
      "SAN/delays_in_2011\n",
      "SAN/delays_in_2012\n",
      "SAN/delays_in_2013\n",
      "SAN/delays_in_2014\n",
      "SAN/delays_in_2015\n",
      "SAN/delays_in_2016\n",
      "SEA\n",
      "SEA/2003_carriers\n",
      "SEA/2004_carriers\n",
      "SEA/2005_carriers\n",
      "SEA/2006_carriers\n",
      "SEA/2007_carriers\n",
      "SEA/2008_carriers\n",
      "SEA/2009_carriers\n",
      "SEA/2010_carriers\n",
      "SEA/2011_carriers\n",
      "SEA/2012_carriers\n",
      "SEA/2013_carriers\n",
      "SEA/2014_carriers\n",
      "SEA/2015_carriers\n",
      "SEA/2016_carriers\n",
      "SEA/delays_in_2003\n",
      "SEA/delays_in_2004\n",
      "SEA/delays_in_2005\n",
      "SEA/delays_in_2006\n",
      "SEA/delays_in_2007\n",
      "SEA/delays_in_2008\n",
      "SEA/delays_in_2009\n",
      "SEA/delays_in_2010\n",
      "SEA/delays_in_2011\n",
      "SEA/delays_in_2012\n",
      "SEA/delays_in_2013\n",
      "SEA/delays_in_2014\n",
      "SEA/delays_in_2015\n",
      "SEA/delays_in_2016\n",
      "SFO\n",
      "SFO/2003_carriers\n",
      "SFO/2004_carriers\n",
      "SFO/2005_carriers\n",
      "SFO/2006_carriers\n",
      "SFO/2007_carriers\n",
      "SFO/2008_carriers\n",
      "SFO/2009_carriers\n",
      "SFO/2010_carriers\n",
      "SFO/2011_carriers\n",
      "SFO/2012_carriers\n",
      "SFO/2013_carriers\n",
      "SFO/2014_carriers\n",
      "SFO/2015_carriers\n",
      "SFO/2016_carriers\n",
      "SFO/delays_in_2003\n",
      "SFO/delays_in_2004\n",
      "SFO/delays_in_2005\n",
      "SFO/delays_in_2006\n",
      "SFO/delays_in_2007\n",
      "SFO/delays_in_2008\n",
      "SFO/delays_in_2009\n",
      "SFO/delays_in_2010\n",
      "SFO/delays_in_2011\n",
      "SFO/delays_in_2012\n",
      "SFO/delays_in_2013\n",
      "SFO/delays_in_2014\n",
      "SFO/delays_in_2015\n",
      "SFO/delays_in_2016\n",
      "SLC\n",
      "SLC/2003_carriers\n",
      "SLC/2004_carriers\n",
      "SLC/2005_carriers\n",
      "SLC/2006_carriers\n",
      "SLC/2007_carriers\n",
      "SLC/2008_carriers\n",
      "SLC/2009_carriers\n",
      "SLC/2010_carriers\n",
      "SLC/2011_carriers\n",
      "SLC/2012_carriers\n",
      "SLC/2013_carriers\n",
      "SLC/2014_carriers\n",
      "SLC/2015_carriers\n",
      "SLC/2016_carriers\n",
      "SLC/delays_in_2003\n",
      "SLC/delays_in_2004\n",
      "SLC/delays_in_2005\n",
      "SLC/delays_in_2006\n",
      "SLC/delays_in_2007\n",
      "SLC/delays_in_2008\n",
      "SLC/delays_in_2009\n",
      "SLC/delays_in_2010\n",
      "SLC/delays_in_2011\n",
      "SLC/delays_in_2012\n",
      "SLC/delays_in_2013\n",
      "SLC/delays_in_2014\n",
      "SLC/delays_in_2015\n",
      "SLC/delays_in_2016\n",
      "TPA\n",
      "TPA/2003_carriers\n",
      "TPA/2004_carriers\n",
      "TPA/2005_carriers\n",
      "TPA/2006_carriers\n",
      "TPA/2007_carriers\n",
      "TPA/2008_carriers\n",
      "TPA/2009_carriers\n",
      "TPA/2010_carriers\n",
      "TPA/2011_carriers\n",
      "TPA/2012_carriers\n",
      "TPA/2013_carriers\n",
      "TPA/2014_carriers\n",
      "TPA/2015_carriers\n",
      "TPA/2016_carriers\n",
      "TPA/delays_in_2003\n",
      "TPA/delays_in_2004\n",
      "TPA/delays_in_2005\n",
      "TPA/delays_in_2006\n",
      "TPA/delays_in_2007\n",
      "TPA/delays_in_2008\n",
      "TPA/delays_in_2009\n",
      "TPA/delays_in_2010\n",
      "TPA/delays_in_2011\n",
      "TPA/delays_in_2012\n",
      "TPA/delays_in_2013\n",
      "TPA/delays_in_2014\n",
      "TPA/delays_in_2015\n",
      "TPA/delays_in_2016\n"
     ]
    }
   ],
   "source": [
    "hf.visit(printname)"
   ]
  },
  {
   "cell_type": "code",
   "execution_count": 18,
   "metadata": {},
   "outputs": [
    {
     "name": "stdout",
     "output_type": "stream",
     "text": [
      "<HDF5 group \"/ORD\" (28 members)>\n"
     ]
    }
   ],
   "source": [
    "ord_airport = hf.get('ORD')\n",
    "print(ord_airport)"
   ]
  },
  {
   "cell_type": "code",
   "execution_count": 19,
   "metadata": {},
   "outputs": [
    {
     "name": "stdout",
     "output_type": "stream",
     "text": [
      "2003_carriers\n",
      "2004_carriers\n",
      "2005_carriers\n",
      "2006_carriers\n",
      "2007_carriers\n",
      "2008_carriers\n",
      "2009_carriers\n",
      "2010_carriers\n",
      "2011_carriers\n",
      "2012_carriers\n",
      "2013_carriers\n",
      "2014_carriers\n",
      "2015_carriers\n",
      "2016_carriers\n",
      "delays_in_2003\n",
      "delays_in_2004\n",
      "delays_in_2005\n",
      "delays_in_2006\n",
      "delays_in_2007\n",
      "delays_in_2008\n",
      "delays_in_2009\n",
      "delays_in_2010\n",
      "delays_in_2011\n",
      "delays_in_2012\n",
      "delays_in_2013\n",
      "delays_in_2014\n",
      "delays_in_2015\n",
      "delays_in_2016\n"
     ]
    }
   ],
   "source": [
    "ord_airport.visit(printname)"
   ]
  },
  {
   "cell_type": "code",
   "execution_count": 20,
   "metadata": {},
   "outputs": [
    {
     "name": "stdout",
     "output_type": "stream",
     "text": [
      "<HDF5 dataset \"delays_in_2003\": shape (12,), type \"<i8\">\n"
     ]
    }
   ],
   "source": [
    "print(ord_airport.get('delays_in_2003'))"
   ]
  },
  {
   "cell_type": "code",
   "execution_count": 21,
   "metadata": {},
   "outputs": [
    {
     "name": "stdout",
     "output_type": "stream",
     "text": [
      "[  0   0   0   0   0 157 258 237  99  38 202 254]\n"
     ]
    }
   ],
   "source": [
    "print(np.array(ord_airport.get('delays_in_2003')))"
   ]
  },
  {
   "cell_type": "code",
   "execution_count": 22,
   "metadata": {},
   "outputs": [],
   "source": [
    "hf.close()"
   ]
  },
  {
   "cell_type": "code",
   "execution_count": null,
   "metadata": {},
   "outputs": [],
   "source": []
  }
 ],
 "metadata": {
  "kernelspec": {
   "display_name": "Python 3",
   "language": "python",
   "name": "python3"
  },
  "language_info": {
   "codemirror_mode": {
    "name": "ipython",
    "version": 3
   },
   "file_extension": ".py",
   "mimetype": "text/x-python",
   "name": "python",
   "nbconvert_exporter": "python",
   "pygments_lexer": "ipython3",
   "version": "3.8.5"
  }
 },
 "nbformat": 4,
 "nbformat_minor": 4
}

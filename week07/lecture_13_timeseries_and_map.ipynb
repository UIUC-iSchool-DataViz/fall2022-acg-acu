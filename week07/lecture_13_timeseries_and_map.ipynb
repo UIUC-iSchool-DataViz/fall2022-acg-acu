{
 "cells": [
  {
   "cell_type": "code",
   "execution_count": 1,
   "metadata": {},
   "outputs": [],
   "source": [
    "import pandas as pd\n",
    "import numpy as np\n",
    "import bqplot\n",
    "import traitlets\n",
    "import ipywidgets"
   ]
  },
  {
   "cell_type": "code",
   "execution_count": 2,
   "metadata": {},
   "outputs": [
    {
     "name": "stdout",
     "output_type": "stream",
     "text": [
      "<class 'pandas.core.frame.DataFrame'>\n",
      "RangeIndex: 8862 entries, 0 to 8861\n",
      "Data columns (total 22 columns):\n",
      " #   Column                   Non-Null Count  Dtype  \n",
      "---  ------                   --------------  -----  \n",
      " 0   Agency Name              8862 non-null   object \n",
      " 1   Location Name            8862 non-null   object \n",
      " 2   Address                  8811 non-null   object \n",
      " 3   City                     8862 non-null   object \n",
      " 4   Zip code                 8862 non-null   int64  \n",
      " 5   County                   8837 non-null   object \n",
      " 6   Congress Dist            8862 non-null   int64  \n",
      " 7   Congressional Full Name  8699 non-null   object \n",
      " 8   Rep Dist                 8862 non-null   int64  \n",
      " 9   Rep Full Name            8839 non-null   object \n",
      " 10  Senate Dist              8862 non-null   int64  \n",
      " 11  Senator Full Name        8839 non-null   object \n",
      " 12  Bldg Status              8862 non-null   object \n",
      " 13  Year Acquired            8597 non-null   float64\n",
      " 14  Year Constructed         8573 non-null   float64\n",
      " 15  Square Footage           8805 non-null   float64\n",
      " 16  Total Floors             8862 non-null   int64  \n",
      " 17  Floors Above Grade       8862 non-null   int64  \n",
      " 18  Floors Below Grade       8862 non-null   int64  \n",
      " 19  Usage Description        8862 non-null   object \n",
      " 20  Usage Description 2      8832 non-null   object \n",
      " 21  Usage Description 3      8774 non-null   object \n",
      "dtypes: float64(3), int64(7), object(12)\n",
      "memory usage: 1.5+ MB\n"
     ]
    }
   ],
   "source": [
    "buildings = pd.read_csv(\"building_inventory.csv\", \n",
    "                        na_values={\"Year Acquired\": 0,\n",
    "                                   \"Year Constructed\": 0,\n",
    "                                   \"Square Footage\": 0})\n",
    "\n",
    "buildings.info()"
   ]
  },
  {
   "cell_type": "code",
   "execution_count": 3,
   "metadata": {},
   "outputs": [
    {
     "data": {
      "text/html": [
       "<div>\n",
       "<style scoped>\n",
       "    .dataframe tbody tr th:only-of-type {\n",
       "        vertical-align: middle;\n",
       "    }\n",
       "\n",
       "    .dataframe tbody tr th {\n",
       "        vertical-align: top;\n",
       "    }\n",
       "\n",
       "    .dataframe thead th {\n",
       "        text-align: right;\n",
       "    }\n",
       "</style>\n",
       "<table border=\"1\" class=\"dataframe\">\n",
       "  <thead>\n",
       "    <tr style=\"text-align: right;\">\n",
       "      <th></th>\n",
       "      <th>Year Acquired</th>\n",
       "    </tr>\n",
       "  </thead>\n",
       "  <tbody>\n",
       "    <tr>\n",
       "      <th>0</th>\n",
       "      <td>1975.0</td>\n",
       "    </tr>\n",
       "    <tr>\n",
       "      <th>1</th>\n",
       "      <td>2004.0</td>\n",
       "    </tr>\n",
       "    <tr>\n",
       "      <th>2</th>\n",
       "      <td>2004.0</td>\n",
       "    </tr>\n",
       "    <tr>\n",
       "      <th>3</th>\n",
       "      <td>2004.0</td>\n",
       "    </tr>\n",
       "    <tr>\n",
       "      <th>4</th>\n",
       "      <td>2004.0</td>\n",
       "    </tr>\n",
       "  </tbody>\n",
       "</table>\n",
       "</div>"
      ],
      "text/plain": [
       "   Year Acquired\n",
       "0         1975.0\n",
       "1         2004.0\n",
       "2         2004.0\n",
       "3         2004.0\n",
       "4         2004.0"
      ]
     },
     "execution_count": 3,
     "metadata": {},
     "output_type": "execute_result"
    }
   ],
   "source": [
    "# Show values in Year Acquired column\n",
    "buildings.head()[['Year Acquired']]"
   ]
  },
  {
   "cell_type": "code",
   "execution_count": 4,
   "metadata": {},
   "outputs": [
    {
     "data": {
      "text/html": [
       "<div>\n",
       "<style scoped>\n",
       "    .dataframe tbody tr th:only-of-type {\n",
       "        vertical-align: middle;\n",
       "    }\n",
       "\n",
       "    .dataframe tbody tr th {\n",
       "        vertical-align: top;\n",
       "    }\n",
       "\n",
       "    .dataframe thead th {\n",
       "        text-align: right;\n",
       "    }\n",
       "</style>\n",
       "<table border=\"1\" class=\"dataframe\">\n",
       "  <thead>\n",
       "    <tr style=\"text-align: right;\">\n",
       "      <th></th>\n",
       "      <th>Year Acquired</th>\n",
       "    </tr>\n",
       "  </thead>\n",
       "  <tbody>\n",
       "    <tr>\n",
       "      <th>0</th>\n",
       "      <td>1970-01-01 00:00:00.000001975</td>\n",
       "    </tr>\n",
       "    <tr>\n",
       "      <th>1</th>\n",
       "      <td>1970-01-01 00:00:00.000002004</td>\n",
       "    </tr>\n",
       "    <tr>\n",
       "      <th>2</th>\n",
       "      <td>1970-01-01 00:00:00.000002004</td>\n",
       "    </tr>\n",
       "    <tr>\n",
       "      <th>3</th>\n",
       "      <td>1970-01-01 00:00:00.000002004</td>\n",
       "    </tr>\n",
       "    <tr>\n",
       "      <th>4</th>\n",
       "      <td>1970-01-01 00:00:00.000002004</td>\n",
       "    </tr>\n",
       "  </tbody>\n",
       "</table>\n",
       "</div>"
      ],
      "text/plain": [
       "                  Year Acquired\n",
       "0 1970-01-01 00:00:00.000001975\n",
       "1 1970-01-01 00:00:00.000002004\n",
       "2 1970-01-01 00:00:00.000002004\n",
       "3 1970-01-01 00:00:00.000002004\n",
       "4 1970-01-01 00:00:00.000002004"
      ]
     },
     "execution_count": 4,
     "metadata": {},
     "output_type": "execute_result"
    }
   ],
   "source": [
    "# Convert without format\n",
    "buildings_cp = buildings.copy()\n",
    "buildings_cp['Year Acquired'] = pd.to_datetime(buildings_cp['Year Acquired'])\n",
    "buildings_cp.head()[['Year Acquired']]"
   ]
  },
  {
   "cell_type": "code",
   "execution_count": 6,
   "metadata": {},
   "outputs": [
    {
     "data": {
      "text/plain": [
       "[1970.0, 1970.0, 1970.0]"
      ]
     },
     "execution_count": 6,
     "metadata": {},
     "output_type": "execute_result"
    }
   ],
   "source": [
    "buildings_cp['Year Acquired'].dt.year.tolist()[:3]"
   ]
  },
  {
   "cell_type": "code",
   "execution_count": 7,
   "metadata": {},
   "outputs": [
    {
     "data": {
      "text/plain": [
       "[1.0, 2.0, 2.0]"
      ]
     },
     "execution_count": 7,
     "metadata": {},
     "output_type": "execute_result"
    }
   ],
   "source": [
    "buildings_cp['Year Acquired'].dt.microsecond.tolist()[:3]"
   ]
  },
  {
   "cell_type": "code",
   "execution_count": 5,
   "metadata": {},
   "outputs": [
    {
     "name": "stdout",
     "output_type": "stream",
     "text": [
      "datetime64[ns]\n"
     ]
    },
    {
     "data": {
      "text/html": [
       "<div>\n",
       "<style scoped>\n",
       "    .dataframe tbody tr th:only-of-type {\n",
       "        vertical-align: middle;\n",
       "    }\n",
       "\n",
       "    .dataframe tbody tr th {\n",
       "        vertical-align: top;\n",
       "    }\n",
       "\n",
       "    .dataframe thead th {\n",
       "        text-align: right;\n",
       "    }\n",
       "</style>\n",
       "<table border=\"1\" class=\"dataframe\">\n",
       "  <thead>\n",
       "    <tr style=\"text-align: right;\">\n",
       "      <th></th>\n",
       "      <th>Year Acquired</th>\n",
       "    </tr>\n",
       "  </thead>\n",
       "  <tbody>\n",
       "    <tr>\n",
       "      <th>0</th>\n",
       "      <td>1975-01-01</td>\n",
       "    </tr>\n",
       "    <tr>\n",
       "      <th>1</th>\n",
       "      <td>2004-01-01</td>\n",
       "    </tr>\n",
       "    <tr>\n",
       "      <th>2</th>\n",
       "      <td>2004-01-01</td>\n",
       "    </tr>\n",
       "    <tr>\n",
       "      <th>3</th>\n",
       "      <td>2004-01-01</td>\n",
       "    </tr>\n",
       "    <tr>\n",
       "      <th>4</th>\n",
       "      <td>2004-01-01</td>\n",
       "    </tr>\n",
       "  </tbody>\n",
       "</table>\n",
       "</div>"
      ],
      "text/plain": [
       "  Year Acquired\n",
       "0    1975-01-01\n",
       "1    2004-01-01\n",
       "2    2004-01-01\n",
       "3    2004-01-01\n",
       "4    2004-01-01"
      ]
     },
     "execution_count": 5,
     "metadata": {},
     "output_type": "execute_result"
    }
   ],
   "source": [
    "# Convert with format\n",
    "buildings['Year Acquired'] = pd.to_datetime(buildings['Year Acquired'], \n",
    "                                            format='%Y')\n",
    "print(buildings['Year Acquired'].dtype)\n",
    "buildings.head()[['Year Acquired']]"
   ]
  },
  {
   "cell_type": "code",
   "execution_count": 8,
   "metadata": {},
   "outputs": [
    {
     "name": "stdout",
     "output_type": "stream",
     "text": [
      "float64\n"
     ]
    },
    {
     "data": {
      "text/html": [
       "<div>\n",
       "<style scoped>\n",
       "    .dataframe tbody tr th:only-of-type {\n",
       "        vertical-align: middle;\n",
       "    }\n",
       "\n",
       "    .dataframe tbody tr th {\n",
       "        vertical-align: top;\n",
       "    }\n",
       "\n",
       "    .dataframe thead th {\n",
       "        text-align: right;\n",
       "    }\n",
       "</style>\n",
       "<table border=\"1\" class=\"dataframe\">\n",
       "  <thead>\n",
       "    <tr style=\"text-align: right;\">\n",
       "      <th></th>\n",
       "      <th>Year Acquired</th>\n",
       "    </tr>\n",
       "  </thead>\n",
       "  <tbody>\n",
       "    <tr>\n",
       "      <th>0</th>\n",
       "      <td>1975.0</td>\n",
       "    </tr>\n",
       "    <tr>\n",
       "      <th>1</th>\n",
       "      <td>2004.0</td>\n",
       "    </tr>\n",
       "    <tr>\n",
       "      <th>2</th>\n",
       "      <td>2004.0</td>\n",
       "    </tr>\n",
       "    <tr>\n",
       "      <th>3</th>\n",
       "      <td>2004.0</td>\n",
       "    </tr>\n",
       "    <tr>\n",
       "      <th>4</th>\n",
       "      <td>2004.0</td>\n",
       "    </tr>\n",
       "  </tbody>\n",
       "</table>\n",
       "</div>"
      ],
      "text/plain": [
       "   Year Acquired\n",
       "0         1975.0\n",
       "1         2004.0\n",
       "2         2004.0\n",
       "3         2004.0\n",
       "4         2004.0"
      ]
     },
     "execution_count": 8,
     "metadata": {},
     "output_type": "execute_result"
    }
   ],
   "source": [
    "# Extract the year from the date object, Note the datatype\n",
    "buildings['Year Acquired'] = buildings['Year Acquired'].dt.year\n",
    "print(buildings['Year Acquired'].dtype)\n",
    "buildings.head()[['Year Acquired']]"
   ]
  },
  {
   "cell_type": "markdown",
   "metadata": {},
   "source": [
    "# UFO dataset"
   ]
  },
  {
   "cell_type": "code",
   "execution_count": 9,
   "metadata": {},
   "outputs": [],
   "source": [
    "#!wget https://github.com/planetsig/ufo-reports/raw/master/csv-data/ufo-scrubbed-geocoded-time-standardized.csv"
   ]
  },
  {
   "cell_type": "code",
   "execution_count": 10,
   "metadata": {},
   "outputs": [
    {
     "name": "stderr",
     "output_type": "stream",
     "text": [
      "/opt/conda/lib/python3.8/site-packages/IPython/core/interactiveshell.py:3145: DtypeWarning: Columns (5,9) have mixed types.Specify dtype option on import or set low_memory=False.\n",
      "  has_raised = await self.run_ast_nodes(code_ast.body, cell_name,\n"
     ]
    },
    {
     "name": "stdout",
     "output_type": "stream",
     "text": [
      "(80332, 12)\n",
      "<class 'pandas.core.frame.DataFrame'>\n",
      "RangeIndex: 1000 entries, 0 to 999\n",
      "Data columns (total 12 columns):\n",
      " #   Column         Non-Null Count  Dtype         \n",
      "---  ------         --------------  -----         \n",
      " 0   ufo_id         1000 non-null   int64         \n",
      " 1   date_sighted   1000 non-null   datetime64[ns]\n",
      " 2   city           1000 non-null   object        \n",
      " 3   state          922 non-null    object        \n",
      " 4   country        866 non-null    object        \n",
      " 5   shape          974 non-null    object        \n",
      " 6   duration       1000 non-null   float64       \n",
      " 7   duration_txt   1000 non-null   object        \n",
      " 8   note           1000 non-null   object        \n",
      " 9   date_reported  1000 non-null   datetime64[ns]\n",
      " 10  latitude       1000 non-null   float64       \n",
      " 11  longitude      1000 non-null   float64       \n",
      "dtypes: datetime64[ns](2), float64(3), int64(1), object(6)\n",
      "memory usage: 93.9+ KB\n",
      "None\n"
     ]
    },
    {
     "data": {
      "text/html": [
       "<div>\n",
       "<style scoped>\n",
       "    .dataframe tbody tr th:only-of-type {\n",
       "        vertical-align: middle;\n",
       "    }\n",
       "\n",
       "    .dataframe tbody tr th {\n",
       "        vertical-align: top;\n",
       "    }\n",
       "\n",
       "    .dataframe thead th {\n",
       "        text-align: right;\n",
       "    }\n",
       "</style>\n",
       "<table border=\"1\" class=\"dataframe\">\n",
       "  <thead>\n",
       "    <tr style=\"text-align: right;\">\n",
       "      <th></th>\n",
       "      <th>ufo_id</th>\n",
       "      <th>date_sighted</th>\n",
       "      <th>city</th>\n",
       "      <th>state</th>\n",
       "      <th>country</th>\n",
       "      <th>shape</th>\n",
       "      <th>duration</th>\n",
       "      <th>duration_txt</th>\n",
       "      <th>note</th>\n",
       "      <th>date_reported</th>\n",
       "      <th>latitude</th>\n",
       "      <th>longitude</th>\n",
       "    </tr>\n",
       "  </thead>\n",
       "  <tbody>\n",
       "    <tr>\n",
       "      <th>0</th>\n",
       "      <td>60887</td>\n",
       "      <td>2010-07-30 23:05:00</td>\n",
       "      <td>uk/scotland</td>\n",
       "      <td>NaN</td>\n",
       "      <td>NaN</td>\n",
       "      <td>light</td>\n",
       "      <td>180.0</td>\n",
       "      <td>3 mins</td>\n",
       "      <td>two bright lights travelling at speed across a...</td>\n",
       "      <td>2010-08-24</td>\n",
       "      <td>56.490671</td>\n",
       "      <td>-4.202646</td>\n",
       "    </tr>\n",
       "    <tr>\n",
       "      <th>1</th>\n",
       "      <td>5167</td>\n",
       "      <td>2011-10-28 16:39:00</td>\n",
       "      <td>scottsdale</td>\n",
       "      <td>az</td>\n",
       "      <td>us</td>\n",
       "      <td>unknown</td>\n",
       "      <td>300.0</td>\n",
       "      <td>5min or less</td>\n",
       "      <td>Three to Five comet-like objects seen descendi...</td>\n",
       "      <td>2011-12-12</td>\n",
       "      <td>33.509167</td>\n",
       "      <td>-111.898333</td>\n",
       "    </tr>\n",
       "    <tr>\n",
       "      <th>2</th>\n",
       "      <td>45720</td>\n",
       "      <td>2007-05-05 01:00:00</td>\n",
       "      <td>denton</td>\n",
       "      <td>ne</td>\n",
       "      <td>us</td>\n",
       "      <td>other</td>\n",
       "      <td>420.0</td>\n",
       "      <td>5-7 minutes</td>\n",
       "      <td>Object seen outside of Lincoln &amp;#44NE</td>\n",
       "      <td>2007-06-12</td>\n",
       "      <td>40.737778</td>\n",
       "      <td>-96.844167</td>\n",
       "    </tr>\n",
       "    <tr>\n",
       "      <th>3</th>\n",
       "      <td>40365</td>\n",
       "      <td>2006-04-05 22:25:00</td>\n",
       "      <td>oklahoma city</td>\n",
       "      <td>ok</td>\n",
       "      <td>us</td>\n",
       "      <td>circle</td>\n",
       "      <td>600.0</td>\n",
       "      <td>10 minutes</td>\n",
       "      <td>Two hovering orange circles drop third orange ...</td>\n",
       "      <td>2006-05-15</td>\n",
       "      <td>35.467500</td>\n",
       "      <td>-97.516111</td>\n",
       "    </tr>\n",
       "    <tr>\n",
       "      <th>4</th>\n",
       "      <td>28803</td>\n",
       "      <td>2003-02-27 00:00:00</td>\n",
       "      <td>patoka</td>\n",
       "      <td>in</td>\n",
       "      <td>us</td>\n",
       "      <td>unknown</td>\n",
       "      <td>300.0</td>\n",
       "      <td>5 minutes off and on</td>\n",
       "      <td>on a morning jog me and my friend saw lights i...</td>\n",
       "      <td>2003-03-21</td>\n",
       "      <td>38.406944</td>\n",
       "      <td>-87.585556</td>\n",
       "    </tr>\n",
       "  </tbody>\n",
       "</table>\n",
       "</div>"
      ],
      "text/plain": [
       "   ufo_id        date_sighted           city state country    shape  duration  \\\n",
       "0   60887 2010-07-30 23:05:00    uk/scotland   NaN     NaN    light     180.0   \n",
       "1    5167 2011-10-28 16:39:00     scottsdale    az      us  unknown     300.0   \n",
       "2   45720 2007-05-05 01:00:00         denton    ne      us    other     420.0   \n",
       "3   40365 2006-04-05 22:25:00  oklahoma city    ok      us   circle     600.0   \n",
       "4   28803 2003-02-27 00:00:00         patoka    in      us  unknown     300.0   \n",
       "\n",
       "           duration_txt                                               note  \\\n",
       "0                3 mins  two bright lights travelling at speed across a...   \n",
       "1          5min or less  Three to Five comet-like objects seen descendi...   \n",
       "2           5-7 minutes              Object seen outside of Lincoln &#44NE   \n",
       "3            10 minutes  Two hovering orange circles drop third orange ...   \n",
       "4  5 minutes off and on  on a morning jog me and my friend saw lights i...   \n",
       "\n",
       "  date_reported   latitude   longitude  \n",
       "0    2010-08-24  56.490671   -4.202646  \n",
       "1    2011-12-12  33.509167 -111.898333  \n",
       "2    2007-06-12  40.737778  -96.844167  \n",
       "3    2006-05-15  35.467500  -97.516111  \n",
       "4    2003-03-21  38.406944  -87.585556  "
      ]
     },
     "execution_count": 10,
     "metadata": {},
     "output_type": "execute_result"
    }
   ],
   "source": [
    "ufo = pd.read_csv('ufo-scrubbed-geocoded-time-standardized.csv', \n",
    "                  names=['date_sighted', 'city', 'state', 'country',\n",
    "                         'shape', 'duration', \n",
    "                         'duration_txt', 'note', 'date_reported', \n",
    "                         'latitude', 'longitude'],\n",
    "                  parse_dates=['date_sighted', 'date_reported'])\n",
    "ufo = ufo.reset_index().rename(columns={'index':'ufo_id'})\n",
    "print(ufo.shape)\n",
    "\n",
    "ufo = ufo.loc[~ufo.index.isin([27822, 35692, 58591, 43782])] # Ignore dirty data for now\n",
    "\n",
    "df = ufo.sample(n=1000, random_state=5).reset_index(drop=True)\n",
    "df['date_sighted'] = df['date_sighted'].str.replace('24:00', '00:00') \n",
    "df['duration'] = df['duration'].astype(float)\n",
    "df['latitude'] = df['latitude'].astype(float)\n",
    "df['date_sighted'] = pd.to_datetime(df['date_sighted'])\n",
    "\n",
    "print(df.info())\n",
    "df.head()"
   ]
  },
  {
   "cell_type": "markdown",
   "metadata": {},
   "source": [
    "# Time-series data"
   ]
  },
  {
   "cell_type": "code",
   "execution_count": 11,
   "metadata": {},
   "outputs": [
    {
     "data": {
      "text/html": [
       "<div>\n",
       "<style scoped>\n",
       "    .dataframe tbody tr th:only-of-type {\n",
       "        vertical-align: middle;\n",
       "    }\n",
       "\n",
       "    .dataframe tbody tr th {\n",
       "        vertical-align: top;\n",
       "    }\n",
       "\n",
       "    .dataframe thead th {\n",
       "        text-align: right;\n",
       "    }\n",
       "</style>\n",
       "<table border=\"1\" class=\"dataframe\">\n",
       "  <thead>\n",
       "    <tr style=\"text-align: right;\">\n",
       "      <th></th>\n",
       "      <th>ufo_id</th>\n",
       "    </tr>\n",
       "    <tr>\n",
       "      <th>date_sighted</th>\n",
       "      <th></th>\n",
       "    </tr>\n",
       "  </thead>\n",
       "  <tbody>\n",
       "    <tr>\n",
       "      <th>1955-06-30</th>\n",
       "      <td>1</td>\n",
       "    </tr>\n",
       "    <tr>\n",
       "      <th>1955-07-31</th>\n",
       "      <td>0</td>\n",
       "    </tr>\n",
       "    <tr>\n",
       "      <th>1955-08-31</th>\n",
       "      <td>0</td>\n",
       "    </tr>\n",
       "    <tr>\n",
       "      <th>1955-09-30</th>\n",
       "      <td>0</td>\n",
       "    </tr>\n",
       "    <tr>\n",
       "      <th>1955-10-31</th>\n",
       "      <td>0</td>\n",
       "    </tr>\n",
       "    <tr>\n",
       "      <th>...</th>\n",
       "      <td>...</td>\n",
       "    </tr>\n",
       "    <tr>\n",
       "      <th>2014-01-31</th>\n",
       "      <td>8</td>\n",
       "    </tr>\n",
       "    <tr>\n",
       "      <th>2014-02-28</th>\n",
       "      <td>2</td>\n",
       "    </tr>\n",
       "    <tr>\n",
       "      <th>2014-03-31</th>\n",
       "      <td>8</td>\n",
       "    </tr>\n",
       "    <tr>\n",
       "      <th>2014-04-30</th>\n",
       "      <td>17</td>\n",
       "    </tr>\n",
       "    <tr>\n",
       "      <th>2014-05-31</th>\n",
       "      <td>2</td>\n",
       "    </tr>\n",
       "  </tbody>\n",
       "</table>\n",
       "<p>708 rows × 1 columns</p>\n",
       "</div>"
      ],
      "text/plain": [
       "              ufo_id\n",
       "date_sighted        \n",
       "1955-06-30         1\n",
       "1955-07-31         0\n",
       "1955-08-31         0\n",
       "1955-09-30         0\n",
       "1955-10-31         0\n",
       "...              ...\n",
       "2014-01-31         8\n",
       "2014-02-28         2\n",
       "2014-03-31         8\n",
       "2014-04-30        17\n",
       "2014-05-31         2\n",
       "\n",
       "[708 rows x 1 columns]"
      ]
     },
     "execution_count": 11,
     "metadata": {},
     "output_type": "execute_result"
    }
   ],
   "source": [
    "# prep data: Number of UFOs sighted in each month\n",
    "# https://pandas.pydata.org/pandas-docs/stable/user_guide/timeseries.html#offset-aliases\n",
    "\n",
    "line_data = df.groupby(pd.Grouper(key='date_sighted', \n",
    "                                  freq='M'))[['ufo_id']].count()\n",
    "line_data"
   ]
  },
  {
   "cell_type": "code",
   "execution_count": 14,
   "metadata": {},
   "outputs": [
    {
     "data": {
      "text/html": [
       "<div>\n",
       "<style scoped>\n",
       "    .dataframe tbody tr th:only-of-type {\n",
       "        vertical-align: middle;\n",
       "    }\n",
       "\n",
       "    .dataframe tbody tr th {\n",
       "        vertical-align: top;\n",
       "    }\n",
       "\n",
       "    .dataframe thead th {\n",
       "        text-align: right;\n",
       "    }\n",
       "</style>\n",
       "<table border=\"1\" class=\"dataframe\">\n",
       "  <thead>\n",
       "    <tr style=\"text-align: right;\">\n",
       "      <th></th>\n",
       "      <th>ufo_id</th>\n",
       "      <th>date_sighted</th>\n",
       "      <th>city</th>\n",
       "      <th>state</th>\n",
       "      <th>country</th>\n",
       "      <th>shape</th>\n",
       "      <th>duration</th>\n",
       "      <th>duration_txt</th>\n",
       "      <th>note</th>\n",
       "      <th>date_reported</th>\n",
       "      <th>latitude</th>\n",
       "      <th>longitude</th>\n",
       "    </tr>\n",
       "  </thead>\n",
       "  <tbody>\n",
       "    <tr>\n",
       "      <th>330</th>\n",
       "      <td>48587</td>\n",
       "      <td>1955-06-15 04:30:00</td>\n",
       "      <td>missouri (northwest part)</td>\n",
       "      <td>mo</td>\n",
       "      <td>NaN</td>\n",
       "      <td>light</td>\n",
       "      <td>300.0</td>\n",
       "      <td>5 min</td>\n",
       "      <td>I will never forget this this experience. The ...</td>\n",
       "      <td>2003-03-21</td>\n",
       "      <td>37.964253</td>\n",
       "      <td>-91.831833</td>\n",
       "    </tr>\n",
       "  </tbody>\n",
       "</table>\n",
       "</div>"
      ],
      "text/plain": [
       "     ufo_id        date_sighted                       city state country  \\\n",
       "330   48587 1955-06-15 04:30:00  missouri (northwest part)    mo     NaN   \n",
       "\n",
       "     shape  duration duration_txt  \\\n",
       "330  light     300.0        5 min   \n",
       "\n",
       "                                                  note date_reported  \\\n",
       "330  I will never forget this this experience. The ...    2003-03-21   \n",
       "\n",
       "      latitude  longitude  \n",
       "330  37.964253 -91.831833  "
      ]
     },
     "execution_count": 14,
     "metadata": {},
     "output_type": "execute_result"
    }
   ],
   "source": [
    "# Check if grouped result is correct\n",
    "df.loc[df['date_sighted'].dt.year == 1955]"
   ]
  },
  {
   "cell_type": "code",
   "execution_count": 15,
   "metadata": {},
   "outputs": [
    {
     "data": {
      "text/html": [
       "<div>\n",
       "<style scoped>\n",
       "    .dataframe tbody tr th:only-of-type {\n",
       "        vertical-align: middle;\n",
       "    }\n",
       "\n",
       "    .dataframe tbody tr th {\n",
       "        vertical-align: top;\n",
       "    }\n",
       "\n",
       "    .dataframe thead th {\n",
       "        text-align: right;\n",
       "    }\n",
       "</style>\n",
       "<table border=\"1\" class=\"dataframe\">\n",
       "  <thead>\n",
       "    <tr style=\"text-align: right;\">\n",
       "      <th></th>\n",
       "      <th>ufo_id</th>\n",
       "    </tr>\n",
       "    <tr>\n",
       "      <th>date_sighted</th>\n",
       "      <th></th>\n",
       "    </tr>\n",
       "  </thead>\n",
       "  <tbody>\n",
       "    <tr>\n",
       "      <th>1955-06-30</th>\n",
       "      <td>1</td>\n",
       "    </tr>\n",
       "    <tr>\n",
       "      <th>1955-07-31</th>\n",
       "      <td>0</td>\n",
       "    </tr>\n",
       "    <tr>\n",
       "      <th>1955-08-31</th>\n",
       "      <td>0</td>\n",
       "    </tr>\n",
       "    <tr>\n",
       "      <th>1955-09-30</th>\n",
       "      <td>0</td>\n",
       "    </tr>\n",
       "    <tr>\n",
       "      <th>1955-10-31</th>\n",
       "      <td>0</td>\n",
       "    </tr>\n",
       "    <tr>\n",
       "      <th>1955-11-30</th>\n",
       "      <td>0</td>\n",
       "    </tr>\n",
       "    <tr>\n",
       "      <th>1955-12-31</th>\n",
       "      <td>0</td>\n",
       "    </tr>\n",
       "  </tbody>\n",
       "</table>\n",
       "</div>"
      ],
      "text/plain": [
       "              ufo_id\n",
       "date_sighted        \n",
       "1955-06-30         1\n",
       "1955-07-31         0\n",
       "1955-08-31         0\n",
       "1955-09-30         0\n",
       "1955-10-31         0\n",
       "1955-11-30         0\n",
       "1955-12-31         0"
      ]
     },
     "execution_count": 15,
     "metadata": {},
     "output_type": "execute_result"
    }
   ],
   "source": [
    "line_data.loc[line_data.index.year == 1955]"
   ]
  },
  {
   "cell_type": "markdown",
   "metadata": {},
   "source": [
    "## Parameter: X lim"
   ]
  },
  {
   "cell_type": "code",
   "execution_count": 17,
   "metadata": {
    "scrolled": true
   },
   "outputs": [
    {
     "data": {
      "application/vnd.jupyter.widget-view+json": {
       "model_id": "3f1a040f8c27439ea0beed0a041d3a45",
       "version_major": 2,
       "version_minor": 0
      },
      "text/plain": [
       "SelectionRangeSlider(description='Year Range', index=(0, 0), layout=Layout(width='600px'), options=(1955, 1955…"
      ]
     },
     "metadata": {},
     "output_type": "display_data"
    }
   ],
   "source": [
    "# range slider for years\n",
    "my_slider = ipywidgets.SelectionRangeSlider(options=line_data.index.year,\n",
    "                                            description='Year Range', \n",
    "                                            layout={'width':\"600px\"})\n",
    "my_slider"
   ]
  },
  {
   "cell_type": "code",
   "execution_count": 19,
   "metadata": {},
   "outputs": [
    {
     "data": {
      "text/plain": [
       "(1989, 1998)"
      ]
     },
     "execution_count": 19,
     "metadata": {},
     "output_type": "execute_result"
    }
   ],
   "source": [
    "my_slider.value"
   ]
  },
  {
   "cell_type": "code",
   "execution_count": 23,
   "metadata": {},
   "outputs": [
    {
     "data": {
      "application/vnd.jupyter.widget-view+json": {
       "model_id": "ae40a61e74144023922dd2d0ca24a760",
       "version_major": 2,
       "version_minor": 0
      },
      "text/plain": [
       "VBox(children=(SelectionRangeSlider(description='Year Range', index=(0, 0), layout=Layout(width='600px'), opti…"
      ]
     },
     "metadata": {},
     "output_type": "display_data"
    }
   ],
   "source": [
    "# A line plot + displayed the selected year window\n",
    "\n",
    "# Scale\n",
    "x_sc = bqplot.DateScale()\n",
    "y_sc = bqplot.LinearScale()\n",
    "\n",
    "# Axis\n",
    "x_ax = bqplot.Axis(scale=x_sc, label='Date Sighted')\n",
    "y_ax = bqplot.Axis(scale=y_sc, label='UFO counts', \n",
    "                   orientation='vertical')\n",
    "\n",
    "# Mark\n",
    "lines = bqplot.Lines(x=line_data.index, \n",
    "                     y=line_data['ufo_id'], \n",
    "                     scales={'x':x_sc, 'y':y_sc})\n",
    "\n",
    "# Interaction\n",
    "my_slider = ipywidgets.SelectionRangeSlider(options=line_data.index.year,\n",
    "                                            description='Year Range', \n",
    "                                            layout={'width':\"600px\"})\n",
    "\n",
    "def slider_func(change):\n",
    "    yr_range = my_slider.value\n",
    "    #print(yr_range)\n",
    "    \n",
    "    yr_start, yr_end = yr_range\n",
    "    \n",
    "    filter_1 = line_data.index.year >= yr_start\n",
    "    filter_2 = line_data.index.year <= yr_end\n",
    "    \n",
    "    line_data_selected = line_data.loc[(filter_1)&(filter_2)]\n",
    "    \n",
    "    lines.x = line_data_selected.index\n",
    "    lines.y = line_data_selected['ufo_id']\n",
    "\n",
    "my_slider.observe(slider_func, 'value')\n",
    "\n",
    "# Fig\n",
    "line_fig = bqplot.Figure(marks=[lines], axes=[x_ax, y_ax])\n",
    "line_fig.layout.height='200px'\n",
    "line_fig_slider = ipywidgets.VBox([my_slider, line_fig])\n",
    "line_fig_slider"
   ]
  },
  {
   "cell_type": "markdown",
   "metadata": {},
   "source": [
    "# Heatmap and click selected"
   ]
  },
  {
   "cell_type": "code",
   "execution_count": 24,
   "metadata": {},
   "outputs": [
    {
     "data": {
      "text/html": [
       "<div>\n",
       "<style scoped>\n",
       "    .dataframe tbody tr th:only-of-type {\n",
       "        vertical-align: middle;\n",
       "    }\n",
       "\n",
       "    .dataframe tbody tr th {\n",
       "        vertical-align: top;\n",
       "    }\n",
       "\n",
       "    .dataframe thead th {\n",
       "        text-align: right;\n",
       "    }\n",
       "</style>\n",
       "<table border=\"1\" class=\"dataframe\">\n",
       "  <thead>\n",
       "    <tr style=\"text-align: right;\">\n",
       "      <th>country</th>\n",
       "      <th>au</th>\n",
       "      <th>ca</th>\n",
       "      <th>de</th>\n",
       "      <th>gb</th>\n",
       "      <th>us</th>\n",
       "    </tr>\n",
       "    <tr>\n",
       "      <th>date_reported</th>\n",
       "      <th></th>\n",
       "      <th></th>\n",
       "      <th></th>\n",
       "      <th></th>\n",
       "      <th></th>\n",
       "    </tr>\n",
       "  </thead>\n",
       "  <tbody>\n",
       "    <tr>\n",
       "      <th>1998</th>\n",
       "      <td>NaN</td>\n",
       "      <td>NaN</td>\n",
       "      <td>NaN</td>\n",
       "      <td>NaN</td>\n",
       "      <td>9.0</td>\n",
       "    </tr>\n",
       "    <tr>\n",
       "      <th>1999</th>\n",
       "      <td>NaN</td>\n",
       "      <td>NaN</td>\n",
       "      <td>NaN</td>\n",
       "      <td>NaN</td>\n",
       "      <td>50.0</td>\n",
       "    </tr>\n",
       "    <tr>\n",
       "      <th>2000</th>\n",
       "      <td>1.0</td>\n",
       "      <td>3.0</td>\n",
       "      <td>NaN</td>\n",
       "      <td>NaN</td>\n",
       "      <td>25.0</td>\n",
       "    </tr>\n",
       "    <tr>\n",
       "      <th>2001</th>\n",
       "      <td>NaN</td>\n",
       "      <td>2.0</td>\n",
       "      <td>NaN</td>\n",
       "      <td>2.0</td>\n",
       "      <td>31.0</td>\n",
       "    </tr>\n",
       "    <tr>\n",
       "      <th>2002</th>\n",
       "      <td>NaN</td>\n",
       "      <td>5.0</td>\n",
       "      <td>NaN</td>\n",
       "      <td>5.0</td>\n",
       "      <td>39.0</td>\n",
       "    </tr>\n",
       "    <tr>\n",
       "      <th>2003</th>\n",
       "      <td>1.0</td>\n",
       "      <td>2.0</td>\n",
       "      <td>NaN</td>\n",
       "      <td>3.0</td>\n",
       "      <td>47.0</td>\n",
       "    </tr>\n",
       "    <tr>\n",
       "      <th>2004</th>\n",
       "      <td>3.0</td>\n",
       "      <td>3.0</td>\n",
       "      <td>NaN</td>\n",
       "      <td>NaN</td>\n",
       "      <td>47.0</td>\n",
       "    </tr>\n",
       "    <tr>\n",
       "      <th>2005</th>\n",
       "      <td>NaN</td>\n",
       "      <td>NaN</td>\n",
       "      <td>NaN</td>\n",
       "      <td>4.0</td>\n",
       "      <td>55.0</td>\n",
       "    </tr>\n",
       "    <tr>\n",
       "      <th>2006</th>\n",
       "      <td>NaN</td>\n",
       "      <td>2.0</td>\n",
       "      <td>1.0</td>\n",
       "      <td>NaN</td>\n",
       "      <td>30.0</td>\n",
       "    </tr>\n",
       "    <tr>\n",
       "      <th>2007</th>\n",
       "      <td>1.0</td>\n",
       "      <td>NaN</td>\n",
       "      <td>NaN</td>\n",
       "      <td>2.0</td>\n",
       "      <td>48.0</td>\n",
       "    </tr>\n",
       "    <tr>\n",
       "      <th>2008</th>\n",
       "      <td>NaN</td>\n",
       "      <td>1.0</td>\n",
       "      <td>NaN</td>\n",
       "      <td>1.0</td>\n",
       "      <td>50.0</td>\n",
       "    </tr>\n",
       "    <tr>\n",
       "      <th>2009</th>\n",
       "      <td>NaN</td>\n",
       "      <td>2.0</td>\n",
       "      <td>NaN</td>\n",
       "      <td>NaN</td>\n",
       "      <td>58.0</td>\n",
       "    </tr>\n",
       "    <tr>\n",
       "      <th>2010</th>\n",
       "      <td>NaN</td>\n",
       "      <td>1.0</td>\n",
       "      <td>NaN</td>\n",
       "      <td>1.0</td>\n",
       "      <td>47.0</td>\n",
       "    </tr>\n",
       "    <tr>\n",
       "      <th>2011</th>\n",
       "      <td>1.0</td>\n",
       "      <td>1.0</td>\n",
       "      <td>NaN</td>\n",
       "      <td>1.0</td>\n",
       "      <td>49.0</td>\n",
       "    </tr>\n",
       "    <tr>\n",
       "      <th>2012</th>\n",
       "      <td>1.0</td>\n",
       "      <td>2.0</td>\n",
       "      <td>NaN</td>\n",
       "      <td>NaN</td>\n",
       "      <td>91.0</td>\n",
       "    </tr>\n",
       "    <tr>\n",
       "      <th>2013</th>\n",
       "      <td>NaN</td>\n",
       "      <td>3.0</td>\n",
       "      <td>NaN</td>\n",
       "      <td>1.0</td>\n",
       "      <td>95.0</td>\n",
       "    </tr>\n",
       "    <tr>\n",
       "      <th>2014</th>\n",
       "      <td>1.0</td>\n",
       "      <td>2.0</td>\n",
       "      <td>NaN</td>\n",
       "      <td>NaN</td>\n",
       "      <td>36.0</td>\n",
       "    </tr>\n",
       "  </tbody>\n",
       "</table>\n",
       "</div>"
      ],
      "text/plain": [
       "country         au   ca   de   gb    us\n",
       "date_reported                          \n",
       "1998           NaN  NaN  NaN  NaN   9.0\n",
       "1999           NaN  NaN  NaN  NaN  50.0\n",
       "2000           1.0  3.0  NaN  NaN  25.0\n",
       "2001           NaN  2.0  NaN  2.0  31.0\n",
       "2002           NaN  5.0  NaN  5.0  39.0\n",
       "2003           1.0  2.0  NaN  3.0  47.0\n",
       "2004           3.0  3.0  NaN  NaN  47.0\n",
       "2005           NaN  NaN  NaN  4.0  55.0\n",
       "2006           NaN  2.0  1.0  NaN  30.0\n",
       "2007           1.0  NaN  NaN  2.0  48.0\n",
       "2008           NaN  1.0  NaN  1.0  50.0\n",
       "2009           NaN  2.0  NaN  NaN  58.0\n",
       "2010           NaN  1.0  NaN  1.0  47.0\n",
       "2011           1.0  1.0  NaN  1.0  49.0\n",
       "2012           1.0  2.0  NaN  NaN  91.0\n",
       "2013           NaN  3.0  NaN  1.0  95.0\n",
       "2014           1.0  2.0  NaN  NaN  36.0"
      ]
     },
     "execution_count": 24,
     "metadata": {},
     "output_type": "execute_result"
    }
   ],
   "source": [
    "# Prep data: UFOs reported in different years and countries\n",
    "heatmap_data = df.groupby([df['date_reported'].dt.year, 'country'])[['ufo_id']].count()\n",
    "heatmap_data = heatmap_data.reset_index()\n",
    "heatmap_data = heatmap_data.pivot(index='date_reported', \n",
    "                                  columns='country', \n",
    "                                  values='ufo_id')\n",
    "heatmap_data"
   ]
  },
  {
   "cell_type": "code",
   "execution_count": 25,
   "metadata": {
    "scrolled": false
   },
   "outputs": [
    {
     "data": {
      "application/vnd.jupyter.widget-view+json": {
       "model_id": "d0979556c18244aa887d653b67154745",
       "version_major": 2,
       "version_minor": 0
      },
      "text/plain": [
       "Figure(axes=[Axis(label='Country', scale=OrdinalScale()), Axis(label='Year Reported', orientation='vertical', …"
      ]
     },
     "metadata": {},
     "output_type": "display_data"
    }
   ],
   "source": [
    "# Heatmap without interactivity\n",
    "# Scale\n",
    "x_sc = bqplot.OrdinalScale()\n",
    "y_sc = bqplot.OrdinalScale()\n",
    "\n",
    "clr = np.log10(heatmap_data)\n",
    "c_sc = bqplot.ColorScale(scheme='BuPu', min=np.nanmin(clr) , max=np.nanmax(clr))\n",
    "\n",
    "# Axis\n",
    "x_ax = bqplot.Axis(scale=x_sc, label='Country')\n",
    "y_ax = bqplot.Axis(scale=y_sc, label='Year Reported', orientation='vertical')\n",
    "c_ax = bqplot.ColorAxis(scale=c_sc, side='right')\n",
    "\n",
    "# Marks\n",
    "heatmap = bqplot.GridHeatMap(column=heatmap_data.columns,\n",
    "                             row=heatmap_data.index,\n",
    "                             scales={'column':x_sc, 'row':y_sc, 'color':c_sc}, \n",
    "                             color=clr)\n",
    "\n",
    "# Fig\n",
    "heatmap_fig = bqplot.Figure(marks=[heatmap], axes=[x_ax, y_ax, c_ax])\n",
    "heatmap_fig"
   ]
  },
  {
   "cell_type": "code",
   "execution_count": 32,
   "metadata": {
    "scrolled": false
   },
   "outputs": [
    {
     "data": {
      "application/vnd.jupyter.widget-view+json": {
       "model_id": "33b8c1e93916441db97f9ae5081f70aa",
       "version_major": 2,
       "version_minor": 0
      },
      "text/plain": [
       "HBox(children=(Figure(axes=[Axis(label='Country', scale=OrdinalScale()), Axis(label='Year Reported', orientati…"
      ]
     },
     "metadata": {},
     "output_type": "display_data"
    },
    {
     "name": "stdout",
     "output_type": "stream",
     "text": [
      "[[10  4]]\n",
      "2008 us\n",
      "[[16  4]]\n",
      "2014 us\n",
      "[[9 4]]\n",
      "2007 us\n",
      "[[5 4]]\n",
      "2003 us\n"
     ]
    }
   ],
   "source": [
    "# Heatmap with click and select that shows the UFO counts in each month\n",
    "\n",
    "# Left plot: heatmap\n",
    "# Scale\n",
    "x_sc = bqplot.OrdinalScale()\n",
    "y_sc = bqplot.OrdinalScale()\n",
    "\n",
    "clr = np.log10(heatmap_data)\n",
    "c_sc = bqplot.ColorScale(scheme='BuPu', min=np.nanmin(clr) , max=np.nanmax(clr))\n",
    "\n",
    "# Axis\n",
    "x_ax = bqplot.Axis(scale=x_sc, label='Country')\n",
    "y_ax = bqplot.Axis(scale=y_sc, label='Year Reported', orientation='vertical')\n",
    "c_ax = bqplot.ColorAxis(scale=c_sc, side='right')\n",
    "\n",
    "# Marks\n",
    "heatmap = bqplot.GridHeatMap(column=heatmap_data.columns,\n",
    "                             row=heatmap_data.index,\n",
    "                             scales={'column':x_sc, 'row':y_sc, 'color':c_sc}, \n",
    "                             color=clr, \n",
    "                             interactions={'click':'select'}, \n",
    "                             selected_style={'fill':'green'})\n",
    "\n",
    "\n",
    "# Right plot: line plot\n",
    "\n",
    "# Scale \n",
    "x_sc_r = bqplot.DateScale()\n",
    "y_sc_r = bqplot.LinearScale()\n",
    "\n",
    "# Axis\n",
    "x_ax_r = bqplot.Axis(scale=x_sc_r, label='Month')\n",
    "y_ax_r = bqplot.Axis(scale=y_sc_r, label='UFO counts', \n",
    "                     orientation='vertical')\n",
    "\n",
    "# Mark\n",
    "lines = bqplot.Lines(scales={'x':x_sc_r, 'y':y_sc_r})\n",
    "\n",
    "\n",
    "# Interaction:\n",
    "\n",
    "def observe_func(change):\n",
    "    selected_cell = heatmap.selected\n",
    "    print(selected_cell)\n",
    "    \n",
    "    selected_row, selected_col = selected_cell[0]\n",
    "    \n",
    "    years = heatmap_data.index.tolist()\n",
    "    countries = heatmap_data.columns.tolist()\n",
    "    \n",
    "    selected_yr = years[selected_row]\n",
    "    selected_country = countries[selected_col]\n",
    "    \n",
    "    print(selected_yr, selected_country)\n",
    "    \n",
    "    filter_1 = df['date_reported'].dt.year == selected_yr\n",
    "    filter_2 = df['country'] == selected_country\n",
    "    \n",
    "    df_selected = df.loc[(filter_1)&(filter_2)]\n",
    "    \n",
    "    df_selected_g = df_selected.groupby(pd.Grouper(key='date_reported', \n",
    "                                                   freq='M'))[['ufo_id']].count()\n",
    "    \n",
    "    lines.x = df_selected_g.index\n",
    "    lines.y = df_selected_g['ufo_id']\n",
    "\n",
    "heatmap.observe(observe_func, 'selected')\n",
    "\n",
    "\n",
    "# Fig\n",
    "heatmap_fig = bqplot.Figure(marks=[heatmap], axes=[x_ax, y_ax, c_ax])\n",
    "line_fig = bqplot.Figure(marks=[lines], axes=[x_ax_r, y_ax_r], \n",
    "                         title='UFO counts by month in the selected year and country')\n",
    "\n",
    "heatmap_fig.layout.width = '500px'\n",
    "line_fig.layout.width = '500px'\n",
    "\n",
    "# Dashboard\n",
    "my_dashboard = ipywidgets.HBox([heatmap_fig, line_fig])\n",
    "my_dashboard"
   ]
  },
  {
   "cell_type": "markdown",
   "metadata": {},
   "source": [
    "# Maps"
   ]
  },
  {
   "cell_type": "code",
   "execution_count": null,
   "metadata": {},
   "outputs": [],
   "source": [
    "# US map data"
   ]
  },
  {
   "cell_type": "code",
   "execution_count": null,
   "metadata": {},
   "outputs": [],
   "source": [
    "# Data of one state\n"
   ]
  },
  {
   "cell_type": "code",
   "execution_count": null,
   "metadata": {},
   "outputs": [],
   "source": [
    "# US Map with tooltip"
   ]
  },
  {
   "cell_type": "code",
   "execution_count": null,
   "metadata": {},
   "outputs": [],
   "source": [
    "# World Map with tooltip"
   ]
  },
  {
   "cell_type": "markdown",
   "metadata": {},
   "source": [
    "# US Map with customized colors"
   ]
  },
  {
   "cell_type": "code",
   "execution_count": null,
   "metadata": {},
   "outputs": [],
   "source": [
    "!wget https://gist.githubusercontent.com/dantonnoriega/bf1acd2290e15b91e6710b6fd3be0a53/raw/11d15233327c8080c9646c7e1f23052659db251d/us-state-ansi-fips.csv"
   ]
  },
  {
   "cell_type": "code",
   "execution_count": null,
   "metadata": {},
   "outputs": [],
   "source": [
    "# Values in the us-state-ansi-fips.csv"
   ]
  },
  {
   "cell_type": "code",
   "execution_count": null,
   "metadata": {},
   "outputs": [],
   "source": [
    "# rename column names and clean values"
   ]
  },
  {
   "cell_type": "code",
   "execution_count": null,
   "metadata": {},
   "outputs": [],
   "source": [
    "# FIPS and state names in the US State map data"
   ]
  },
  {
   "cell_type": "markdown",
   "metadata": {},
   "source": [
    "## Coropleth map"
   ]
  },
  {
   "cell_type": "code",
   "execution_count": null,
   "metadata": {},
   "outputs": [],
   "source": [
    "# Color map by number of UFOs sighted in states"
   ]
  },
  {
   "cell_type": "code",
   "execution_count": null,
   "metadata": {},
   "outputs": [],
   "source": [
    "# Color: number of UFOs sighted in states"
   ]
  },
  {
   "cell_type": "markdown",
   "metadata": {},
   "source": [
    "## A Dashboard showing duration in seconds by years in the selected state"
   ]
  },
  {
   "cell_type": "code",
   "execution_count": null,
   "metadata": {},
   "outputs": [],
   "source": [
    "# Click select + sum of duration in seconds (all the selected states are combined)\n"
   ]
  },
  {
   "cell_type": "code",
   "execution_count": null,
   "metadata": {},
   "outputs": [],
   "source": [
    "# Click select + sum of duration in seconds (the selected states presented as seperated lines)\n",
    "\n"
   ]
  },
  {
   "cell_type": "markdown",
   "metadata": {},
   "source": [
    "## A Dashboard with three plots"
   ]
  },
  {
   "cell_type": "code",
   "execution_count": null,
   "metadata": {},
   "outputs": [],
   "source": [
    "# Click select + sum of duration in seconds (the selected states are in seperated lines) + stacked bars by shapes"
   ]
  },
  {
   "cell_type": "code",
   "execution_count": null,
   "metadata": {},
   "outputs": [],
   "source": []
  }
 ],
 "metadata": {
  "kernelspec": {
   "display_name": "Python 3",
   "language": "python",
   "name": "python3"
  },
  "language_info": {
   "codemirror_mode": {
    "name": "ipython",
    "version": 3
   },
   "file_extension": ".py",
   "mimetype": "text/x-python",
   "name": "python",
   "nbconvert_exporter": "python",
   "pygments_lexer": "ipython3",
   "version": "3.8.5"
  }
 },
 "nbformat": 4,
 "nbformat_minor": 4
}

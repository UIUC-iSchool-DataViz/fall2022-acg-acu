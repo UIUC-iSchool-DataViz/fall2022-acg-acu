{
 "cells": [
  {
   "cell_type": "code",
   "execution_count": 1,
   "metadata": {},
   "outputs": [],
   "source": [
    "# In terminal:\n",
    "# pip install bqplot==0.12.2\n",
    "# jupyter labextension list\n",
    "# jupyter labextension install @jupyter-widgets/jupyterlab-manager \n",
    "# jupyter labextension install bqplot"
   ]
  },
  {
   "cell_type": "code",
   "execution_count": 2,
   "metadata": {},
   "outputs": [],
   "source": [
    "import pandas as pd\n",
    "import numpy as np\n",
    "import bqplot\n",
    "import traitlets\n",
    "import ipywidgets"
   ]
  },
  {
   "cell_type": "markdown",
   "metadata": {},
   "source": [
    "# Dataset\n",
    "\n",
    "[UFO dataset](https://github.com/planetsig/ufo-reports)"
   ]
  },
  {
   "cell_type": "code",
   "execution_count": 3,
   "metadata": {},
   "outputs": [],
   "source": [
    "# !wget https://github.com/planetsig/ufo-reports/raw/master/csv-data/ufo-scrubbed-geocoded-time-standardized.csv"
   ]
  },
  {
   "cell_type": "code",
   "execution_count": 4,
   "metadata": {},
   "outputs": [
    {
     "name": "stderr",
     "output_type": "stream",
     "text": [
      "/opt/conda/lib/python3.8/site-packages/IPython/core/interactiveshell.py:3145: DtypeWarning: Columns (5,9) have mixed types.Specify dtype option on import or set low_memory=False.\n",
      "  has_raised = await self.run_ast_nodes(code_ast.body, cell_name,\n"
     ]
    },
    {
     "name": "stdout",
     "output_type": "stream",
     "text": [
      "<class 'pandas.core.frame.DataFrame'>\n",
      "RangeIndex: 80332 entries, 0 to 80331\n",
      "Data columns (total 12 columns):\n",
      " #   Column         Non-Null Count  Dtype         \n",
      "---  ------         --------------  -----         \n",
      " 0   ufo_id         80332 non-null  int64         \n",
      " 1   date_sighted   80332 non-null  object        \n",
      " 2   city           80332 non-null  object        \n",
      " 3   state          74535 non-null  object        \n",
      " 4   country        70662 non-null  object        \n",
      " 5   shape          78400 non-null  object        \n",
      " 6   duration       80332 non-null  object        \n",
      " 7   duration_txt   80332 non-null  object        \n",
      " 8   note           80317 non-null  object        \n",
      " 9   date_reported  80332 non-null  datetime64[ns]\n",
      " 10  latitude       80332 non-null  object        \n",
      " 11  longitude      80332 non-null  float64       \n",
      "dtypes: datetime64[ns](1), float64(1), int64(1), object(9)\n",
      "memory usage: 7.4+ MB\n",
      "None\n"
     ]
    }
   ],
   "source": [
    "ufo = pd.read_csv('ufo-scrubbed-geocoded-time-standardized.csv', \n",
    "                  names=['date_sighted', 'city', 'state', 'country',\n",
    "                         'shape', 'duration', \n",
    "                         'duration_txt', 'note', 'date_reported', \n",
    "                         'latitude', 'longitude'],\n",
    "                  parse_dates=['date_sighted', 'date_reported'])\n",
    "\n",
    "ufo = ufo.reset_index().rename(columns={'index':'ufo_id'})\n",
    "print(ufo.info())"
   ]
  },
  {
   "cell_type": "code",
   "execution_count": 5,
   "metadata": {},
   "outputs": [],
   "source": [
    "def find_dirty_data(col):\n",
    "    for i, val in enumerate(col):\n",
    "        try:\n",
    "            float(val)\n",
    "        except:\n",
    "            print('Row {} has dirty data: {}'.format(i, [val]))"
   ]
  },
  {
   "cell_type": "code",
   "execution_count": 6,
   "metadata": {},
   "outputs": [
    {
     "name": "stdout",
     "output_type": "stream",
     "text": [
      "Row 27822 has dirty data: ['2`']\n",
      "Row 35692 has dirty data: ['8`']\n",
      "Row 58591 has dirty data: ['0.5`']\n"
     ]
    }
   ],
   "source": [
    "find_dirty_data(ufo['duration'])"
   ]
  },
  {
   "cell_type": "code",
   "execution_count": 7,
   "metadata": {},
   "outputs": [
    {
     "name": "stdout",
     "output_type": "stream",
     "text": [
      "Row 43782 has dirty data: ['33q.200088']\n"
     ]
    }
   ],
   "source": [
    "find_dirty_data(ufo['latitude'])"
   ]
  },
  {
   "cell_type": "code",
   "execution_count": 8,
   "metadata": {},
   "outputs": [],
   "source": [
    "ufo = ufo.loc[~ufo.index.isin([27822, 35692, 58591, 43782])]\n",
    "df = ufo.sample(n=1000, random_state=5)"
   ]
  },
  {
   "cell_type": "code",
   "execution_count": 9,
   "metadata": {},
   "outputs": [
    {
     "name": "stdout",
     "output_type": "stream",
     "text": [
      "<class 'pandas.core.frame.DataFrame'>\n",
      "Int64Index: 1000 entries, 60887 to 11929\n",
      "Data columns (total 12 columns):\n",
      " #   Column         Non-Null Count  Dtype         \n",
      "---  ------         --------------  -----         \n",
      " 0   ufo_id         1000 non-null   int64         \n",
      " 1   date_sighted   1000 non-null   datetime64[ns]\n",
      " 2   city           1000 non-null   object        \n",
      " 3   state          922 non-null    object        \n",
      " 4   country        866 non-null    object        \n",
      " 5   shape          974 non-null    object        \n",
      " 6   duration       1000 non-null   float64       \n",
      " 7   duration_txt   1000 non-null   object        \n",
      " 8   note           1000 non-null   object        \n",
      " 9   date_reported  1000 non-null   datetime64[ns]\n",
      " 10  latitude       1000 non-null   float64       \n",
      " 11  longitude      1000 non-null   float64       \n",
      "dtypes: datetime64[ns](2), float64(3), int64(1), object(6)\n",
      "memory usage: 101.6+ KB\n"
     ]
    }
   ],
   "source": [
    "df['date_sighted'] = df['date_sighted'].str.replace('24:00', '00:00')\n",
    "df['date_sighted'] = pd.to_datetime(df['date_sighted'])\n",
    "\n",
    "df['duration'] = df['duration'].astype(float)\n",
    "df['latitude'] = df['latitude'].astype(float)\n",
    "df.info()"
   ]
  },
  {
   "cell_type": "markdown",
   "metadata": {},
   "source": [
    "# Basic plot types"
   ]
  },
  {
   "cell_type": "markdown",
   "metadata": {},
   "source": [
    "# Lines: Number of UFOs sighted in each year"
   ]
  },
  {
   "cell_type": "code",
   "execution_count": 10,
   "metadata": {},
   "outputs": [
    {
     "data": {
      "text/html": [
       "<div>\n",
       "<style scoped>\n",
       "    .dataframe tbody tr th:only-of-type {\n",
       "        vertical-align: middle;\n",
       "    }\n",
       "\n",
       "    .dataframe tbody tr th {\n",
       "        vertical-align: top;\n",
       "    }\n",
       "\n",
       "    .dataframe thead th {\n",
       "        text-align: right;\n",
       "    }\n",
       "</style>\n",
       "<table border=\"1\" class=\"dataframe\">\n",
       "  <thead>\n",
       "    <tr style=\"text-align: right;\">\n",
       "      <th></th>\n",
       "      <th>ufo_id</th>\n",
       "      <th>date_sighted</th>\n",
       "      <th>city</th>\n",
       "      <th>state</th>\n",
       "      <th>country</th>\n",
       "      <th>shape</th>\n",
       "      <th>duration</th>\n",
       "      <th>duration_txt</th>\n",
       "      <th>note</th>\n",
       "      <th>date_reported</th>\n",
       "      <th>latitude</th>\n",
       "      <th>longitude</th>\n",
       "    </tr>\n",
       "  </thead>\n",
       "  <tbody>\n",
       "    <tr>\n",
       "      <th>60887</th>\n",
       "      <td>60887</td>\n",
       "      <td>2010-07-30 23:05:00</td>\n",
       "      <td>uk/scotland</td>\n",
       "      <td>NaN</td>\n",
       "      <td>NaN</td>\n",
       "      <td>light</td>\n",
       "      <td>180.0</td>\n",
       "      <td>3 mins</td>\n",
       "      <td>two bright lights travelling at speed across a...</td>\n",
       "      <td>2010-08-24</td>\n",
       "      <td>56.490671</td>\n",
       "      <td>-4.202646</td>\n",
       "    </tr>\n",
       "    <tr>\n",
       "      <th>5167</th>\n",
       "      <td>5167</td>\n",
       "      <td>2011-10-28 16:39:00</td>\n",
       "      <td>scottsdale</td>\n",
       "      <td>az</td>\n",
       "      <td>us</td>\n",
       "      <td>unknown</td>\n",
       "      <td>300.0</td>\n",
       "      <td>5min or less</td>\n",
       "      <td>Three to Five comet-like objects seen descendi...</td>\n",
       "      <td>2011-12-12</td>\n",
       "      <td>33.509167</td>\n",
       "      <td>-111.898333</td>\n",
       "    </tr>\n",
       "  </tbody>\n",
       "</table>\n",
       "</div>"
      ],
      "text/plain": [
       "       ufo_id        date_sighted         city state country    shape  \\\n",
       "60887   60887 2010-07-30 23:05:00  uk/scotland   NaN     NaN    light   \n",
       "5167     5167 2011-10-28 16:39:00   scottsdale    az      us  unknown   \n",
       "\n",
       "       duration  duration_txt  \\\n",
       "60887     180.0        3 mins   \n",
       "5167      300.0  5min or less   \n",
       "\n",
       "                                                    note date_reported  \\\n",
       "60887  two bright lights travelling at speed across a...    2010-08-24   \n",
       "5167   Three to Five comet-like objects seen descendi...    2011-12-12   \n",
       "\n",
       "        latitude   longitude  \n",
       "60887  56.490671   -4.202646  \n",
       "5167   33.509167 -111.898333  "
      ]
     },
     "execution_count": 10,
     "metadata": {},
     "output_type": "execute_result"
    }
   ],
   "source": [
    "df.head(2)"
   ]
  },
  {
   "cell_type": "code",
   "execution_count": 11,
   "metadata": {},
   "outputs": [
    {
     "data": {
      "text/html": [
       "<div>\n",
       "<style scoped>\n",
       "    .dataframe tbody tr th:only-of-type {\n",
       "        vertical-align: middle;\n",
       "    }\n",
       "\n",
       "    .dataframe tbody tr th {\n",
       "        vertical-align: top;\n",
       "    }\n",
       "\n",
       "    .dataframe thead th {\n",
       "        text-align: right;\n",
       "    }\n",
       "</style>\n",
       "<table border=\"1\" class=\"dataframe\">\n",
       "  <thead>\n",
       "    <tr style=\"text-align: right;\">\n",
       "      <th></th>\n",
       "      <th>ufo_id</th>\n",
       "    </tr>\n",
       "    <tr>\n",
       "      <th>date_sighted</th>\n",
       "      <th></th>\n",
       "    </tr>\n",
       "  </thead>\n",
       "  <tbody>\n",
       "    <tr>\n",
       "      <th>1955</th>\n",
       "      <td>1</td>\n",
       "    </tr>\n",
       "    <tr>\n",
       "      <th>1957</th>\n",
       "      <td>2</td>\n",
       "    </tr>\n",
       "    <tr>\n",
       "      <th>1958</th>\n",
       "      <td>1</td>\n",
       "    </tr>\n",
       "    <tr>\n",
       "      <th>1959</th>\n",
       "      <td>1</td>\n",
       "    </tr>\n",
       "    <tr>\n",
       "      <th>1961</th>\n",
       "      <td>2</td>\n",
       "    </tr>\n",
       "    <tr>\n",
       "      <th>1962</th>\n",
       "      <td>1</td>\n",
       "    </tr>\n",
       "    <tr>\n",
       "      <th>1965</th>\n",
       "      <td>2</td>\n",
       "    </tr>\n",
       "    <tr>\n",
       "      <th>1966</th>\n",
       "      <td>2</td>\n",
       "    </tr>\n",
       "    <tr>\n",
       "      <th>1968</th>\n",
       "      <td>3</td>\n",
       "    </tr>\n",
       "    <tr>\n",
       "      <th>1969</th>\n",
       "      <td>3</td>\n",
       "    </tr>\n",
       "    <tr>\n",
       "      <th>1970</th>\n",
       "      <td>7</td>\n",
       "    </tr>\n",
       "    <tr>\n",
       "      <th>1971</th>\n",
       "      <td>1</td>\n",
       "    </tr>\n",
       "    <tr>\n",
       "      <th>1972</th>\n",
       "      <td>2</td>\n",
       "    </tr>\n",
       "    <tr>\n",
       "      <th>1973</th>\n",
       "      <td>4</td>\n",
       "    </tr>\n",
       "    <tr>\n",
       "      <th>1974</th>\n",
       "      <td>2</td>\n",
       "    </tr>\n",
       "    <tr>\n",
       "      <th>1975</th>\n",
       "      <td>8</td>\n",
       "    </tr>\n",
       "    <tr>\n",
       "      <th>1976</th>\n",
       "      <td>5</td>\n",
       "    </tr>\n",
       "    <tr>\n",
       "      <th>1977</th>\n",
       "      <td>5</td>\n",
       "    </tr>\n",
       "    <tr>\n",
       "      <th>1978</th>\n",
       "      <td>1</td>\n",
       "    </tr>\n",
       "    <tr>\n",
       "      <th>1979</th>\n",
       "      <td>6</td>\n",
       "    </tr>\n",
       "    <tr>\n",
       "      <th>1980</th>\n",
       "      <td>1</td>\n",
       "    </tr>\n",
       "    <tr>\n",
       "      <th>1981</th>\n",
       "      <td>2</td>\n",
       "    </tr>\n",
       "    <tr>\n",
       "      <th>1982</th>\n",
       "      <td>4</td>\n",
       "    </tr>\n",
       "    <tr>\n",
       "      <th>1983</th>\n",
       "      <td>2</td>\n",
       "    </tr>\n",
       "    <tr>\n",
       "      <th>1984</th>\n",
       "      <td>4</td>\n",
       "    </tr>\n",
       "    <tr>\n",
       "      <th>1985</th>\n",
       "      <td>2</td>\n",
       "    </tr>\n",
       "    <tr>\n",
       "      <th>1986</th>\n",
       "      <td>3</td>\n",
       "    </tr>\n",
       "    <tr>\n",
       "      <th>1987</th>\n",
       "      <td>3</td>\n",
       "    </tr>\n",
       "    <tr>\n",
       "      <th>1988</th>\n",
       "      <td>3</td>\n",
       "    </tr>\n",
       "    <tr>\n",
       "      <th>1989</th>\n",
       "      <td>6</td>\n",
       "    </tr>\n",
       "    <tr>\n",
       "      <th>1990</th>\n",
       "      <td>3</td>\n",
       "    </tr>\n",
       "    <tr>\n",
       "      <th>1991</th>\n",
       "      <td>2</td>\n",
       "    </tr>\n",
       "    <tr>\n",
       "      <th>1992</th>\n",
       "      <td>5</td>\n",
       "    </tr>\n",
       "    <tr>\n",
       "      <th>1993</th>\n",
       "      <td>5</td>\n",
       "    </tr>\n",
       "    <tr>\n",
       "      <th>1994</th>\n",
       "      <td>5</td>\n",
       "    </tr>\n",
       "    <tr>\n",
       "      <th>1995</th>\n",
       "      <td>17</td>\n",
       "    </tr>\n",
       "    <tr>\n",
       "      <th>1996</th>\n",
       "      <td>8</td>\n",
       "    </tr>\n",
       "    <tr>\n",
       "      <th>1997</th>\n",
       "      <td>23</td>\n",
       "    </tr>\n",
       "    <tr>\n",
       "      <th>1998</th>\n",
       "      <td>23</td>\n",
       "    </tr>\n",
       "    <tr>\n",
       "      <th>1999</th>\n",
       "      <td>27</td>\n",
       "    </tr>\n",
       "    <tr>\n",
       "      <th>2000</th>\n",
       "      <td>36</td>\n",
       "    </tr>\n",
       "    <tr>\n",
       "      <th>2001</th>\n",
       "      <td>41</td>\n",
       "    </tr>\n",
       "    <tr>\n",
       "      <th>2002</th>\n",
       "      <td>46</td>\n",
       "    </tr>\n",
       "    <tr>\n",
       "      <th>2003</th>\n",
       "      <td>49</td>\n",
       "    </tr>\n",
       "    <tr>\n",
       "      <th>2004</th>\n",
       "      <td>47</td>\n",
       "    </tr>\n",
       "    <tr>\n",
       "      <th>2005</th>\n",
       "      <td>48</td>\n",
       "    </tr>\n",
       "    <tr>\n",
       "      <th>2006</th>\n",
       "      <td>37</td>\n",
       "    </tr>\n",
       "    <tr>\n",
       "      <th>2007</th>\n",
       "      <td>51</td>\n",
       "    </tr>\n",
       "    <tr>\n",
       "      <th>2008</th>\n",
       "      <td>50</td>\n",
       "    </tr>\n",
       "    <tr>\n",
       "      <th>2009</th>\n",
       "      <td>48</td>\n",
       "    </tr>\n",
       "    <tr>\n",
       "      <th>2010</th>\n",
       "      <td>54</td>\n",
       "    </tr>\n",
       "    <tr>\n",
       "      <th>2011</th>\n",
       "      <td>57</td>\n",
       "    </tr>\n",
       "    <tr>\n",
       "      <th>2012</th>\n",
       "      <td>95</td>\n",
       "    </tr>\n",
       "    <tr>\n",
       "      <th>2013</th>\n",
       "      <td>97</td>\n",
       "    </tr>\n",
       "    <tr>\n",
       "      <th>2014</th>\n",
       "      <td>37</td>\n",
       "    </tr>\n",
       "  </tbody>\n",
       "</table>\n",
       "</div>"
      ],
      "text/plain": [
       "              ufo_id\n",
       "date_sighted        \n",
       "1955               1\n",
       "1957               2\n",
       "1958               1\n",
       "1959               1\n",
       "1961               2\n",
       "1962               1\n",
       "1965               2\n",
       "1966               2\n",
       "1968               3\n",
       "1969               3\n",
       "1970               7\n",
       "1971               1\n",
       "1972               2\n",
       "1973               4\n",
       "1974               2\n",
       "1975               8\n",
       "1976               5\n",
       "1977               5\n",
       "1978               1\n",
       "1979               6\n",
       "1980               1\n",
       "1981               2\n",
       "1982               4\n",
       "1983               2\n",
       "1984               4\n",
       "1985               2\n",
       "1986               3\n",
       "1987               3\n",
       "1988               3\n",
       "1989               6\n",
       "1990               3\n",
       "1991               2\n",
       "1992               5\n",
       "1993               5\n",
       "1994               5\n",
       "1995              17\n",
       "1996               8\n",
       "1997              23\n",
       "1998              23\n",
       "1999              27\n",
       "2000              36\n",
       "2001              41\n",
       "2002              46\n",
       "2003              49\n",
       "2004              47\n",
       "2005              48\n",
       "2006              37\n",
       "2007              51\n",
       "2008              50\n",
       "2009              48\n",
       "2010              54\n",
       "2011              57\n",
       "2012              95\n",
       "2013              97\n",
       "2014              37"
      ]
     },
     "execution_count": 11,
     "metadata": {},
     "output_type": "execute_result"
    }
   ],
   "source": [
    "# Prep data\n",
    "line_data = df.groupby(df['date_sighted'].dt.year)[['ufo_id']].count()\n",
    "line_data"
   ]
  },
  {
   "cell_type": "code",
   "execution_count": 12,
   "metadata": {},
   "outputs": [
    {
     "data": {
      "application/vnd.jupyter.widget-view+json": {
       "model_id": "918bac45426446f29d4ecc8676bac5c5",
       "version_major": 2,
       "version_minor": 0
      },
      "text/plain": [
       "Figure(axes=[Axis(label='Year Sighted', scale=LinearScale()), Axis(label='UFO counts', orientation='vertical',…"
      ]
     },
     "metadata": {},
     "output_type": "display_data"
    }
   ],
   "source": [
    "# A line plot \n",
    "\n",
    "# Scale\n",
    "x_sc = bqplot.LinearScale()\n",
    "y_sc = bqplot.LinearScale()\n",
    "\n",
    "# Axis\n",
    "x_ax = bqplot.Axis(scale=x_sc, label = 'Year Sighted')\n",
    "y_ax = bqplot.Axis(scale=y_sc, label = 'UFO counts', \n",
    "                   orientation='vertical')\n",
    "\n",
    "# Marks\n",
    "lines = bqplot.Lines(x=line_data.index, y=line_data['ufo_id'], \n",
    "                     scales={'x': x_sc, 'y':y_sc})\n",
    "\n",
    "# Fig\n",
    "line_fig = bqplot.Figure(marks=[lines], axes=[x_ax, y_ax])\n",
    "line_fig"
   ]
  },
  {
   "cell_type": "code",
   "execution_count": 13,
   "metadata": {},
   "outputs": [
    {
     "data": {
      "text/plain": [
       "{'_display_callbacks': <traitlets.traitlets.Instance at 0x7fc835a24f70>,\n",
       " '_model_module': <traitlets.traitlets.Unicode at 0x7fc835981400>,\n",
       " '_model_module_version': <traitlets.traitlets.Unicode at 0x7fc835981490>,\n",
       " '_model_name': <traitlets.traitlets.Unicode at 0x7fc835981cd0>,\n",
       " '_msg_callbacks': <traitlets.traitlets.Instance at 0x7fc835a24fa0>,\n",
       " '_property_lock': <traitlets.traitlets.Dict at 0x7fc835a24f10>,\n",
       " '_states_to_send': <traitlets.traitlets.Set at 0x7fc835a24f40>,\n",
       " '_view_count': <traitlets.traitlets.Int at 0x7fc835a24df0>,\n",
       " '_view_module': <traitlets.traitlets.Unicode at 0x7fc835981430>,\n",
       " '_view_module_version': <traitlets.traitlets.Unicode at 0x7fc835981460>,\n",
       " '_view_name': <traitlets.traitlets.Unicode at 0x7fc835981ca0>,\n",
       " 'apply_clip': <traitlets.traitlets.Bool at 0x7fc8359810d0>,\n",
       " 'close_path': <traitlets.traitlets.Bool at 0x7fc835981b50>,\n",
       " 'color': <traittypes.traittypes.Array at 0x7fc8359817f0>,\n",
       " 'colors': <traitlets.traitlets.List at 0x7fc835981940>,\n",
       " 'comm': <traitlets.traitlets.Instance at 0x7fc835a24e20>,\n",
       " 'curves_subset': <traitlets.traitlets.List at 0x7fc835981ac0>,\n",
       " 'display_legend': <traitlets.traitlets.Bool at 0x7fc835975f10>,\n",
       " 'enable_hover': <traitlets.traitlets.Bool at 0x7fc835981250>,\n",
       " 'fill': <traitlets.traitlets.Enum at 0x7fc835981bb0>,\n",
       " 'fill_colors': <traitlets.traitlets.List at 0x7fc8359819d0>,\n",
       " 'fill_opacities': <traitlets.traitlets.List at 0x7fc835981c70>,\n",
       " 'interactions': <traitlets.traitlets.Dict at 0x7fc8359812e0>,\n",
       " 'interpolation': <traitlets.traitlets.Enum at 0x7fc835981b20>,\n",
       " 'keys': <traitlets.traitlets.List at 0x7fc835a24e80>,\n",
       " 'labels': <traitlets.traitlets.List at 0x7fc8359810a0>,\n",
       " 'labels_visibility': <traitlets.traitlets.Enum at 0x7fc835981a60>,\n",
       " 'line_style': <traitlets.traitlets.Enum at 0x7fc835981af0>,\n",
       " 'log': <traitlets.traitlets.Instance at 0x7fc835a249d0>,\n",
       " 'marker': <traitlets.traitlets.Enum at 0x7fc835981be0>,\n",
       " 'marker_size': <traitlets.traitlets.Int at 0x7fc835981c10>,\n",
       " 'opacities': <traitlets.traitlets.List at 0x7fc835981c40>,\n",
       " 'preserve_domain': <traitlets.traitlets.Dict at 0x7fc835975e50>,\n",
       " 'scales': <traitlets.traitlets.Dict at 0x7fc835975e20>,\n",
       " 'scales_metadata': <traitlets.traitlets.Dict at 0x7fc8359818e0>,\n",
       " 'selected': <traittypes.traittypes.Array at 0x7fc8359811c0>,\n",
       " 'selected_style': <traitlets.traitlets.Dict at 0x7fc835981130>,\n",
       " 'stroke_width': <traitlets.traitlets.Float at 0x7fc835981a00>,\n",
       " 'tooltip': <traitlets.traitlets.Instance at 0x7fc835981280>,\n",
       " 'tooltip_location': <traitlets.traitlets.Enum at 0x7fc835981340>,\n",
       " 'tooltip_style': <traitlets.traitlets.Dict at 0x7fc8359812b0>,\n",
       " 'unselected_style': <traitlets.traitlets.Dict at 0x7fc835981160>,\n",
       " 'visible': <traitlets.traitlets.Bool at 0x7fc835981100>,\n",
       " 'x': <traittypes.traittypes.Array at 0x7fc8359815b0>,\n",
       " 'y': <traittypes.traittypes.Array at 0x7fc8359816d0>}"
      ]
     },
     "execution_count": 13,
     "metadata": {},
     "output_type": "execute_result"
    }
   ],
   "source": [
    "# See what can be controlled in Marks\n",
    "lines.traits()"
   ]
  },
  {
   "cell_type": "code",
   "execution_count": 14,
   "metadata": {},
   "outputs": [
    {
     "data": {
      "text/plain": [
       "{'_display_callbacks': <traitlets.traitlets.Instance at 0x7fc835a24f70>,\n",
       " '_model_module': <traitlets.traitlets.Unicode at 0x7fc83566f9d0>,\n",
       " '_model_module_version': <traitlets.traitlets.Unicode at 0x7fc83566fa90>,\n",
       " '_model_name': <traitlets.traitlets.Unicode at 0x7fc83566ff40>,\n",
       " '_msg_callbacks': <traitlets.traitlets.Instance at 0x7fc835a24fa0>,\n",
       " '_property_lock': <traitlets.traitlets.Dict at 0x7fc835a24f10>,\n",
       " '_states_to_send': <traitlets.traitlets.Set at 0x7fc835a24f40>,\n",
       " '_view_count': <traitlets.traitlets.Int at 0x7fc835a24df0>,\n",
       " '_view_module': <traitlets.traitlets.Unicode at 0x7fc83566f100>,\n",
       " '_view_module_version': <traitlets.traitlets.Unicode at 0x7fc83566fa60>,\n",
       " '_view_name': <traitlets.traitlets.Unicode at 0x7fc83566ff10>,\n",
       " 'color': <ipywidgets.widgets.trait_types.Color at 0x7fc83566fe20>,\n",
       " 'comm': <traitlets.traitlets.Instance at 0x7fc835a24e20>,\n",
       " 'grid_color': <ipywidgets.widgets.trait_types.Color at 0x7fc83566fdf0>,\n",
       " 'grid_lines': <traitlets.traitlets.Enum at 0x7fc83566fbe0>,\n",
       " 'keys': <traitlets.traitlets.List at 0x7fc835a24e80>,\n",
       " 'label': <traitlets.traitlets.Unicode at 0x7fc83566fbb0>,\n",
       " 'label_color': <ipywidgets.widgets.trait_types.Color at 0x7fc83566fdc0>,\n",
       " 'label_location': <traitlets.traitlets.Enum at 0x7fc83566fd60>,\n",
       " 'label_offset': <traitlets.traitlets.Unicode at 0x7fc83566fe50>,\n",
       " 'log': <traitlets.traitlets.Instance at 0x7fc835a249d0>,\n",
       " 'num_ticks': <traitlets.traitlets.Int at 0x7fc83566fc70>,\n",
       " 'offset': <traitlets.traitlets.Dict at 0x7fc83566fd30>,\n",
       " 'orientation': <traitlets.traitlets.Enum at 0x7fc83566faf0>,\n",
       " 'scale': <traitlets.traitlets.Instance at 0x7fc83566fc40>,\n",
       " 'side': <traitlets.traitlets.Enum at 0x7fc83566fb80>,\n",
       " 'tick_format': <traitlets.traitlets.Unicode at 0x7fc83566fc10>,\n",
       " 'tick_rotate': <traitlets.traitlets.Int at 0x7fc83566fee0>,\n",
       " 'tick_style': <traitlets.traitlets.Dict at 0x7fc83566feb0>,\n",
       " 'tick_values': <traittypes.traittypes.Array at 0x7fc83566fca0>,\n",
       " 'visible': <traitlets.traitlets.Bool at 0x7fc83566fe80>}"
      ]
     },
     "execution_count": 14,
     "metadata": {},
     "output_type": "execute_result"
    }
   ],
   "source": [
    "# See what can be controlled in Axis\n",
    "x_ax.traits()"
   ]
  },
  {
   "cell_type": "code",
   "execution_count": 15,
   "metadata": {},
   "outputs": [
    {
     "data": {
      "application/vnd.jupyter.widget-view+json": {
       "model_id": "918bac45426446f29d4ecc8676bac5c5",
       "version_major": 2,
       "version_minor": 0
      },
      "text/plain": [
       "Figure(axes=[Axis(label='Year Sighted', label_offset='50', scale=LinearScale(), tick_rotate=45, tick_style={'t…"
      ]
     },
     "metadata": {},
     "output_type": "display_data"
    }
   ],
   "source": [
    "# A line plot \n",
    "# - Add points to line\n",
    "# - Change color\n",
    "# - rotate x ticks\n",
    "# - change x ticks text-anchor\n",
    "# - x label offset\n",
    "# - Add title to fig\n",
    "\n",
    "lines.marker = 'circle'\n",
    "lines.colors = ['red']\n",
    "x_ax.tick_rotate = 45\n",
    "x_ax.tick_style = {'text-anchor': 'start'}\n",
    "x_ax.label_offset = '50'\n",
    "\n",
    "line_fig.title = 'My Line Plot'\n",
    "\n",
    "line_fig"
   ]
  },
  {
   "cell_type": "code",
   "execution_count": 16,
   "metadata": {},
   "outputs": [
    {
     "data": {
      "application/vnd.jupyter.widget-view+json": {
       "model_id": "820f5f2994444d1887c8f42ef52fc440",
       "version_major": 2,
       "version_minor": 0
      },
      "text/plain": [
       "Figure(axes=[Axis(label='Year Sighted', scale=LinearScale(), tick_rotate=45), Axis(label='UFO counts', orienta…"
      ]
     },
     "metadata": {},
     "output_type": "display_data"
    }
   ],
   "source": [
    "# We can also do these things inline\n",
    "\n",
    "# Scale\n",
    "x_sc = bqplot.LinearScale()\n",
    "y_sc = bqplot.LinearScale()\n",
    "\n",
    "# Axis\n",
    "x_ax = bqplot.Axis(scale=x_sc, label = 'Year Sighted', \n",
    "                   tick_rotate = 45)\n",
    "y_ax = bqplot.Axis(scale=y_sc, label = 'UFO counts', \n",
    "                   orientation='vertical')\n",
    "\n",
    "# Marks\n",
    "lines = bqplot.Lines(x=line_data.index, y=line_data['ufo_id'], \n",
    "                     scales={'x': x_sc, 'y':y_sc}, \n",
    "                     colors = ['blue'], \n",
    "                     marker= 'circle')\n",
    "\n",
    "# Fig\n",
    "line_fig = bqplot.Figure(marks=[lines], axes=[x_ax, y_ax])\n",
    "line_fig"
   ]
  },
  {
   "cell_type": "markdown",
   "metadata": {},
   "source": [
    "# Bars: Shapes of UFOs"
   ]
  },
  {
   "cell_type": "code",
   "execution_count": 17,
   "metadata": {},
   "outputs": [
    {
     "data": {
      "text/html": [
       "<div>\n",
       "<style scoped>\n",
       "    .dataframe tbody tr th:only-of-type {\n",
       "        vertical-align: middle;\n",
       "    }\n",
       "\n",
       "    .dataframe tbody tr th {\n",
       "        vertical-align: top;\n",
       "    }\n",
       "\n",
       "    .dataframe thead th {\n",
       "        text-align: right;\n",
       "    }\n",
       "</style>\n",
       "<table border=\"1\" class=\"dataframe\">\n",
       "  <thead>\n",
       "    <tr style=\"text-align: right;\">\n",
       "      <th></th>\n",
       "      <th>ufo_id</th>\n",
       "    </tr>\n",
       "    <tr>\n",
       "      <th>shape</th>\n",
       "      <th></th>\n",
       "    </tr>\n",
       "  </thead>\n",
       "  <tbody>\n",
       "    <tr>\n",
       "      <th>changing</th>\n",
       "      <td>20</td>\n",
       "    </tr>\n",
       "    <tr>\n",
       "      <th>chevron</th>\n",
       "      <td>14</td>\n",
       "    </tr>\n",
       "    <tr>\n",
       "      <th>cigar</th>\n",
       "      <td>22</td>\n",
       "    </tr>\n",
       "    <tr>\n",
       "      <th>circle</th>\n",
       "      <td>88</td>\n",
       "    </tr>\n",
       "    <tr>\n",
       "      <th>cone</th>\n",
       "      <td>2</td>\n",
       "    </tr>\n",
       "    <tr>\n",
       "      <th>cross</th>\n",
       "      <td>1</td>\n",
       "    </tr>\n",
       "    <tr>\n",
       "      <th>cylinder</th>\n",
       "      <td>12</td>\n",
       "    </tr>\n",
       "    <tr>\n",
       "      <th>diamond</th>\n",
       "      <td>11</td>\n",
       "    </tr>\n",
       "    <tr>\n",
       "      <th>disk</th>\n",
       "      <td>65</td>\n",
       "    </tr>\n",
       "    <tr>\n",
       "      <th>egg</th>\n",
       "      <td>9</td>\n",
       "    </tr>\n",
       "    <tr>\n",
       "      <th>fireball</th>\n",
       "      <td>77</td>\n",
       "    </tr>\n",
       "    <tr>\n",
       "      <th>flare</th>\n",
       "      <td>1</td>\n",
       "    </tr>\n",
       "    <tr>\n",
       "      <th>flash</th>\n",
       "      <td>17</td>\n",
       "    </tr>\n",
       "    <tr>\n",
       "      <th>formation</th>\n",
       "      <td>28</td>\n",
       "    </tr>\n",
       "    <tr>\n",
       "      <th>light</th>\n",
       "      <td>208</td>\n",
       "    </tr>\n",
       "    <tr>\n",
       "      <th>other</th>\n",
       "      <td>80</td>\n",
       "    </tr>\n",
       "    <tr>\n",
       "      <th>oval</th>\n",
       "      <td>46</td>\n",
       "    </tr>\n",
       "    <tr>\n",
       "      <th>rectangle</th>\n",
       "      <td>18</td>\n",
       "    </tr>\n",
       "    <tr>\n",
       "      <th>round</th>\n",
       "      <td>1</td>\n",
       "    </tr>\n",
       "    <tr>\n",
       "      <th>sphere</th>\n",
       "      <td>70</td>\n",
       "    </tr>\n",
       "    <tr>\n",
       "      <th>teardrop</th>\n",
       "      <td>8</td>\n",
       "    </tr>\n",
       "    <tr>\n",
       "      <th>triangle</th>\n",
       "      <td>105</td>\n",
       "    </tr>\n",
       "    <tr>\n",
       "      <th>unknown</th>\n",
       "      <td>71</td>\n",
       "    </tr>\n",
       "  </tbody>\n",
       "</table>\n",
       "</div>"
      ],
      "text/plain": [
       "           ufo_id\n",
       "shape            \n",
       "changing       20\n",
       "chevron        14\n",
       "cigar          22\n",
       "circle         88\n",
       "cone            2\n",
       "cross           1\n",
       "cylinder       12\n",
       "diamond        11\n",
       "disk           65\n",
       "egg             9\n",
       "fireball       77\n",
       "flare           1\n",
       "flash          17\n",
       "formation      28\n",
       "light         208\n",
       "other          80\n",
       "oval           46\n",
       "rectangle      18\n",
       "round           1\n",
       "sphere         70\n",
       "teardrop        8\n",
       "triangle      105\n",
       "unknown        71"
      ]
     },
     "execution_count": 17,
     "metadata": {},
     "output_type": "execute_result"
    }
   ],
   "source": [
    "# Prep Data\n",
    "bar_data = df.groupby(['shape'])[['ufo_id']].count()\n",
    "bar_data"
   ]
  },
  {
   "cell_type": "code",
   "execution_count": 18,
   "metadata": {},
   "outputs": [
    {
     "data": {
      "application/vnd.jupyter.widget-view+json": {
       "model_id": "8c58db6da9624859b026ecd8a252efd0",
       "version_major": 2,
       "version_minor": 0
      },
      "text/plain": [
       "Figure(axes=[Axis(label='UFO shapes', scale=OrdinalScale()), Axis(label='UFO counts', orientation='vertical', …"
      ]
     },
     "metadata": {},
     "output_type": "display_data"
    }
   ],
   "source": [
    "# A Bar Chart\n",
    "\n",
    "# Scale\n",
    "x_sc = bqplot.OrdinalScale()\n",
    "y_sc = bqplot.LinearScale()\n",
    "\n",
    "# Axis \n",
    "x_ax = bqplot.Axis(scale=x_sc, label='UFO shapes')\n",
    "y_ax = bqplot.Axis(scale=y_sc, label='UFO counts', orientation='vertical')\n",
    "\n",
    "# Marks\n",
    "bars = bqplot.Bars(x=bar_data.index, y=bar_data['ufo_id'], \n",
    "                   scales={'x': x_sc, 'y':y_sc})\n",
    "\n",
    "# Figure\n",
    "bar_fig = bqplot.Figure(marks=[bars], axes=[x_ax, y_ax])\n",
    "bar_fig"
   ]
  },
  {
   "cell_type": "markdown",
   "metadata": {},
   "source": [
    "# Historgram: Duration in seconds"
   ]
  },
  {
   "cell_type": "code",
   "execution_count": 19,
   "metadata": {},
   "outputs": [
    {
     "data": {
      "application/vnd.jupyter.widget-view+json": {
       "model_id": "45043fbc3ea14d5ba6a61cd873be1be3",
       "version_major": 2,
       "version_minor": 0
      },
      "text/plain": [
       "Figure(axes=[Axis(label='Duration in seconds', scale=LinearScale()), Axis(label='count', orientation='vertical…"
      ]
     },
     "metadata": {},
     "output_type": "display_data"
    }
   ],
   "source": [
    "# A Hist\n",
    "\n",
    "# Scale\n",
    "x_sc = bqplot.LinearScale()\n",
    "y_sc = bqplot.LinearScale()\n",
    "\n",
    "# Axis\n",
    "x_ax = bqplot.Axis(scale=x_sc, label='Duration in seconds')\n",
    "y_ax = bqplot.Axis(scale=y_sc, label='count', orientation='vertical')\n",
    "\n",
    "# Mark\n",
    "hist = bqplot.Hist(sample=df['duration'], \n",
    "                   scales={'sample':x_sc, 'count':y_sc}, \n",
    "                   bins=50)\n",
    "\n",
    "# Fig\n",
    "hist_fig = bqplot.Figure(marks=[hist], axes=[x_ax, y_ax])\n",
    "hist_fig"
   ]
  },
  {
   "cell_type": "markdown",
   "metadata": {},
   "source": [
    "# Scatter: Year sighted and Year reported"
   ]
  },
  {
   "cell_type": "code",
   "execution_count": 20,
   "metadata": {},
   "outputs": [
    {
     "data": {
      "application/vnd.jupyter.widget-view+json": {
       "model_id": "e96ee6abfb9f43129df478335430e95d",
       "version_major": 2,
       "version_minor": 0
      },
      "text/plain": [
       "Figure(axes=[Axis(label='Year Sighted', scale=LinearScale()), Axis(label='Year Reported', orientation='vertica…"
      ]
     },
     "metadata": {},
     "output_type": "display_data"
    }
   ],
   "source": [
    "# A basic one\n",
    "\n",
    "# Scale\n",
    "x_sc = bqplot.LinearScale()\n",
    "y_sc = bqplot.LinearScale()\n",
    "\n",
    "# Axis\n",
    "x_ax = bqplot.Axis(scale=x_sc, label='Year Sighted')\n",
    "y_ax = bqplot.Axis(scale=y_sc, label='Year Reported', \n",
    "                   orientation='vertical')\n",
    "\n",
    "# Mark\n",
    "scatter = bqplot.Scatter(x=df['date_sighted'].dt.year, \n",
    "                         y=df['date_reported'].dt.year,\n",
    "                         scales={'x':x_sc, 'y':y_sc})\n",
    "\n",
    "# fig\n",
    "scatter_fig = bqplot.Figure(marks=[scatter], axes=[x_ax, y_ax])\n",
    "scatter_fig"
   ]
  },
  {
   "cell_type": "code",
   "execution_count": 21,
   "metadata": {},
   "outputs": [
    {
     "data": {
      "application/vnd.jupyter.widget-view+json": {
       "model_id": "5728a5aa7777407cabb76e54f5337f02",
       "version_major": 2,
       "version_minor": 0
      },
      "text/plain": [
       "Figure(axes=[Axis(label='Year Sighted', scale=LinearScale()), Axis(label='Year Reported', orientation='vertica…"
      ]
     },
     "metadata": {},
     "output_type": "display_data"
    }
   ],
   "source": [
    "# A scatter plot colored by duration in seconds\n",
    "\n",
    "# Scale\n",
    "x_sc = bqplot.LinearScale()\n",
    "y_sc = bqplot.LinearScale()\n",
    "\n",
    "clr = np.log10(df['duration'])\n",
    "c_sc = bqplot.ColorScale(scheme='Oranges', \n",
    "                         min= np.nanmin(clr) , \n",
    "                         max= np.nanmax(clr))\n",
    "\n",
    "# Axis\n",
    "x_ax = bqplot.Axis(scale=x_sc, label='Year Sighted')\n",
    "y_ax = bqplot.Axis(scale=y_sc, label='Year Reported', \n",
    "                   orientation='vertical')\n",
    "\n",
    "c_ax = bqplot.ColorAxis(scale=c_sc, side='right')\n",
    "\n",
    "# Mark\n",
    "scatter = bqplot.Scatter(x=df['date_sighted'].dt.year, \n",
    "                         y=df['date_reported'].dt.year,\n",
    "                         scales={'x':x_sc, 'y':y_sc, \n",
    "                                 'color':c_sc}, \n",
    "                         color=clr)\n",
    "\n",
    "# fig\n",
    "scatter_fig = bqplot.Figure(marks=[scatter], axes=[x_ax, y_ax, c_ax])\n",
    "scatter_fig"
   ]
  },
  {
   "cell_type": "code",
   "execution_count": 22,
   "metadata": {},
   "outputs": [
    {
     "data": {
      "text/plain": [
       "5.040602340114073"
      ]
     },
     "execution_count": 22,
     "metadata": {},
     "output_type": "execute_result"
    }
   ],
   "source": [
    "np.log10(df['duration'].max())"
   ]
  },
  {
   "cell_type": "markdown",
   "metadata": {},
   "source": [
    "# Interaction"
   ]
  },
  {
   "cell_type": "markdown",
   "metadata": {},
   "source": [
    "# Pan-zoom"
   ]
  },
  {
   "cell_type": "code",
   "execution_count": 23,
   "metadata": {},
   "outputs": [
    {
     "data": {
      "application/vnd.jupyter.widget-view+json": {
       "model_id": "30f5424983fa4681b59791118a2f69a4",
       "version_major": 2,
       "version_minor": 0
      },
      "text/plain": [
       "Figure(axes=[Axis(label='Year Sighted', scale=LinearScale(), tick_rotate=45), Axis(label='UFO counts', orienta…"
      ]
     },
     "metadata": {},
     "output_type": "display_data"
    }
   ],
   "source": [
    "# Add pan-zoom to line plot\n",
    "\n",
    "# Scale\n",
    "x_sc = bqplot.LinearScale()\n",
    "y_sc = bqplot.LinearScale()\n",
    "\n",
    "# Axis\n",
    "x_ax = bqplot.Axis(scale=x_sc, label = 'Year Sighted', \n",
    "                   tick_rotate = 45)\n",
    "y_ax = bqplot.Axis(scale=y_sc, label = 'UFO counts', \n",
    "                   orientation='vertical')\n",
    "\n",
    "# Marks\n",
    "lines = bqplot.Lines(x=line_data.index, y=line_data['ufo_id'], \n",
    "                     scales={'x': x_sc, 'y':y_sc}, \n",
    "                     colors = ['blue'], \n",
    "                     marker= 'circle')\n",
    "\n",
    "# Interaction: pan-zoom\n",
    "panzoom = bqplot.interacts.PanZoom(scales={'x': [x_sc], \n",
    "                                           'y': [y_sc]})\n",
    "\n",
    "\n",
    "# Fig\n",
    "line_fig = bqplot.Figure(marks=[lines], axes=[x_ax, y_ax], \n",
    "                         interaction=panzoom)\n",
    "line_fig"
   ]
  },
  {
   "cell_type": "markdown",
   "metadata": {},
   "source": [
    "# Tooltip"
   ]
  },
  {
   "cell_type": "code",
   "execution_count": 24,
   "metadata": {},
   "outputs": [
    {
     "data": {
      "text/plain": [
       "{'_display_callbacks': <traitlets.traitlets.Instance at 0x7fc835a24f70>,\n",
       " '_model_module': <traitlets.traitlets.Unicode at 0x7fc835981400>,\n",
       " '_model_module_version': <traitlets.traitlets.Unicode at 0x7fc835981490>,\n",
       " '_model_name': <traitlets.traitlets.Unicode at 0x7fc835981cd0>,\n",
       " '_msg_callbacks': <traitlets.traitlets.Instance at 0x7fc835a24fa0>,\n",
       " '_property_lock': <traitlets.traitlets.Dict at 0x7fc835a24f10>,\n",
       " '_states_to_send': <traitlets.traitlets.Set at 0x7fc835a24f40>,\n",
       " '_view_count': <traitlets.traitlets.Int at 0x7fc835a24df0>,\n",
       " '_view_module': <traitlets.traitlets.Unicode at 0x7fc835981430>,\n",
       " '_view_module_version': <traitlets.traitlets.Unicode at 0x7fc835981460>,\n",
       " '_view_name': <traitlets.traitlets.Unicode at 0x7fc835981ca0>,\n",
       " 'apply_clip': <traitlets.traitlets.Bool at 0x7fc8359810d0>,\n",
       " 'close_path': <traitlets.traitlets.Bool at 0x7fc835981b50>,\n",
       " 'color': <traittypes.traittypes.Array at 0x7fc8359817f0>,\n",
       " 'colors': <traitlets.traitlets.List at 0x7fc835981940>,\n",
       " 'comm': <traitlets.traitlets.Instance at 0x7fc835a24e20>,\n",
       " 'curves_subset': <traitlets.traitlets.List at 0x7fc835981ac0>,\n",
       " 'display_legend': <traitlets.traitlets.Bool at 0x7fc835975f10>,\n",
       " 'enable_hover': <traitlets.traitlets.Bool at 0x7fc835981250>,\n",
       " 'fill': <traitlets.traitlets.Enum at 0x7fc835981bb0>,\n",
       " 'fill_colors': <traitlets.traitlets.List at 0x7fc8359819d0>,\n",
       " 'fill_opacities': <traitlets.traitlets.List at 0x7fc835981c70>,\n",
       " 'interactions': <traitlets.traitlets.Dict at 0x7fc8359812e0>,\n",
       " 'interpolation': <traitlets.traitlets.Enum at 0x7fc835981b20>,\n",
       " 'keys': <traitlets.traitlets.List at 0x7fc835a24e80>,\n",
       " 'labels': <traitlets.traitlets.List at 0x7fc8359810a0>,\n",
       " 'labels_visibility': <traitlets.traitlets.Enum at 0x7fc835981a60>,\n",
       " 'line_style': <traitlets.traitlets.Enum at 0x7fc835981af0>,\n",
       " 'log': <traitlets.traitlets.Instance at 0x7fc835a249d0>,\n",
       " 'marker': <traitlets.traitlets.Enum at 0x7fc835981be0>,\n",
       " 'marker_size': <traitlets.traitlets.Int at 0x7fc835981c10>,\n",
       " 'opacities': <traitlets.traitlets.List at 0x7fc835981c40>,\n",
       " 'preserve_domain': <traitlets.traitlets.Dict at 0x7fc835975e50>,\n",
       " 'scales': <traitlets.traitlets.Dict at 0x7fc835975e20>,\n",
       " 'scales_metadata': <traitlets.traitlets.Dict at 0x7fc8359818e0>,\n",
       " 'selected': <traittypes.traittypes.Array at 0x7fc8359811c0>,\n",
       " 'selected_style': <traitlets.traitlets.Dict at 0x7fc835981130>,\n",
       " 'stroke_width': <traitlets.traitlets.Float at 0x7fc835981a00>,\n",
       " 'tooltip': <traitlets.traitlets.Instance at 0x7fc835981280>,\n",
       " 'tooltip_location': <traitlets.traitlets.Enum at 0x7fc835981340>,\n",
       " 'tooltip_style': <traitlets.traitlets.Dict at 0x7fc8359812b0>,\n",
       " 'unselected_style': <traitlets.traitlets.Dict at 0x7fc835981160>,\n",
       " 'visible': <traitlets.traitlets.Bool at 0x7fc835981100>,\n",
       " 'x': <traittypes.traittypes.Array at 0x7fc8359815b0>,\n",
       " 'y': <traittypes.traittypes.Array at 0x7fc8359816d0>}"
      ]
     },
     "execution_count": 24,
     "metadata": {},
     "output_type": "execute_result"
    }
   ],
   "source": [
    "# See what can be controlled in lines\n",
    "lines.traits()"
   ]
  },
  {
   "cell_type": "code",
   "execution_count": 25,
   "metadata": {
    "scrolled": false
   },
   "outputs": [
    {
     "data": {
      "application/vnd.jupyter.widget-view+json": {
       "model_id": "52f38bb0c8224c75aa77de1b38326383",
       "version_major": 2,
       "version_minor": 0
      },
      "text/plain": [
       "Figure(axes=[Axis(label='Year Sighted', scale=LinearScale(), tick_rotate=45), Axis(label='UFO counts', orienta…"
      ]
     },
     "metadata": {},
     "output_type": "display_data"
    }
   ],
   "source": [
    "# Add tooptip to line plot\n",
    "\n",
    "# Scale\n",
    "x_sc = bqplot.LinearScale()\n",
    "y_sc = bqplot.LinearScale()\n",
    "\n",
    "# Axis\n",
    "x_ax = bqplot.Axis(scale=x_sc, label = 'Year Sighted', \n",
    "                   tick_rotate = 45)\n",
    "y_ax = bqplot.Axis(scale=y_sc, label = 'UFO counts', \n",
    "                   orientation='vertical')\n",
    "\n",
    "# Marks\n",
    "lines = bqplot.Lines(x=line_data.index, y=line_data['ufo_id'], \n",
    "                     scales={'x': x_sc, 'y':y_sc}, \n",
    "                     colors = ['blue'], \n",
    "                     marker= 'circle')\n",
    "\n",
    "# Interaction: tooltip\n",
    "\n",
    "def add_tooltip(chart, d):\n",
    "    #print(d)\n",
    "    if 'y' in d['data'].keys():\n",
    "        my_tooltip = ipywidgets.HTML()\n",
    "        number_of_ufo = d['data']['y']\n",
    "        my_tooltip.value = 'Number of UFOs: {}'.format(number_of_ufo)\n",
    "        lines.tooltip = my_tooltip\n",
    "\n",
    "lines.on_hover(add_tooltip)\n",
    "\n",
    "# Fig\n",
    "line_fig = bqplot.Figure(marks=[lines], axes=[x_ax, y_ax])\n",
    "line_fig"
   ]
  },
  {
   "cell_type": "markdown",
   "metadata": {},
   "source": [
    "# Regenerating hist: Take user input as the number of bins"
   ]
  },
  {
   "cell_type": "code",
   "execution_count": 26,
   "metadata": {},
   "outputs": [
    {
     "data": {
      "text/plain": [
       "{'_display_callbacks': <traitlets.traitlets.Instance at 0x7fc835a24f70>,\n",
       " '_model_module': <traitlets.traitlets.Unicode at 0x7fc835981400>,\n",
       " '_model_module_version': <traitlets.traitlets.Unicode at 0x7fc835981490>,\n",
       " '_model_name': <traitlets.traitlets.Unicode at 0x7fc83599b430>,\n",
       " '_msg_callbacks': <traitlets.traitlets.Instance at 0x7fc835a24fa0>,\n",
       " '_property_lock': <traitlets.traitlets.Dict at 0x7fc835a24f10>,\n",
       " '_states_to_send': <traitlets.traitlets.Set at 0x7fc835a24f40>,\n",
       " '_view_count': <traitlets.traitlets.Int at 0x7fc835a24df0>,\n",
       " '_view_module': <traitlets.traitlets.Unicode at 0x7fc835981430>,\n",
       " '_view_module_version': <traitlets.traitlets.Unicode at 0x7fc835981460>,\n",
       " '_view_name': <traitlets.traitlets.Unicode at 0x7fc83599b400>,\n",
       " 'apply_clip': <traitlets.traitlets.Bool at 0x7fc8359810d0>,\n",
       " 'bins': <traitlets.traitlets.Int at 0x7fc83599b250>,\n",
       " 'colors': <traitlets.traitlets.List at 0x7fc83599b310>,\n",
       " 'comm': <traitlets.traitlets.Instance at 0x7fc835a24e20>,\n",
       " 'count': <traittypes.traittypes.Array at 0x7fc83599b1c0>,\n",
       " 'display_legend': <traitlets.traitlets.Bool at 0x7fc835975f10>,\n",
       " 'enable_hover': <traitlets.traitlets.Bool at 0x7fc835981250>,\n",
       " 'interactions': <traitlets.traitlets.Dict at 0x7fc8359812e0>,\n",
       " 'keys': <traitlets.traitlets.List at 0x7fc835a24e80>,\n",
       " 'labels': <traitlets.traitlets.List at 0x7fc8359810a0>,\n",
       " 'log': <traitlets.traitlets.Instance at 0x7fc835a249d0>,\n",
       " 'midpoints': <traitlets.traitlets.List at 0x7fc83599b280>,\n",
       " 'normalized': <traitlets.traitlets.Bool at 0x7fc83599b1f0>,\n",
       " 'opacities': <traitlets.traitlets.List at 0x7fc83599b3d0>,\n",
       " 'preserve_domain': <traitlets.traitlets.Dict at 0x7fc835975e50>,\n",
       " 'sample': <traittypes.traittypes.Array at 0x7fc83599b100>,\n",
       " 'scales': <traitlets.traitlets.Dict at 0x7fc835975e20>,\n",
       " 'scales_metadata': <traitlets.traitlets.Dict at 0x7fc83599b220>,\n",
       " 'selected': <traittypes.traittypes.Array at 0x7fc8359811c0>,\n",
       " 'selected_style': <traitlets.traitlets.Dict at 0x7fc835981130>,\n",
       " 'stroke': <ipywidgets.widgets.trait_types.Color at 0x7fc83599b340>,\n",
       " 'tooltip': <traitlets.traitlets.Instance at 0x7fc835981280>,\n",
       " 'tooltip_location': <traitlets.traitlets.Enum at 0x7fc835981340>,\n",
       " 'tooltip_style': <traitlets.traitlets.Dict at 0x7fc8359812b0>,\n",
       " 'unselected_style': <traitlets.traitlets.Dict at 0x7fc835981160>,\n",
       " 'visible': <traitlets.traitlets.Bool at 0x7fc835981100>}"
      ]
     },
     "execution_count": 26,
     "metadata": {},
     "output_type": "execute_result"
    }
   ],
   "source": [
    "# Interactively changing number of bins\n",
    "\n",
    "# See what can be controlled in hist\n",
    "hist.traits()"
   ]
  },
  {
   "cell_type": "code",
   "execution_count": 27,
   "metadata": {},
   "outputs": [
    {
     "data": {
      "application/vnd.jupyter.widget-view+json": {
       "model_id": "45043fbc3ea14d5ba6a61cd873be1be3",
       "version_major": 2,
       "version_minor": 0
      },
      "text/plain": [
       "Figure(axes=[Axis(label='Duration in seconds', scale=LinearScale()), Axis(label='count', orientation='vertical…"
      ]
     },
     "metadata": {},
     "output_type": "display_data"
    }
   ],
   "source": [
    "# Change number of bins\n",
    "hist.bins = 3\n",
    "hist_fig"
   ]
  },
  {
   "cell_type": "code",
   "execution_count": 28,
   "metadata": {},
   "outputs": [
    {
     "data": {
      "application/vnd.jupyter.widget-view+json": {
       "model_id": "1866c15f1ff44e079bb038029fb287e4",
       "version_major": 2,
       "version_minor": 0
      },
      "text/plain": [
       "Text(value='')"
      ]
     },
     "metadata": {},
     "output_type": "display_data"
    }
   ],
   "source": [
    "# ipywidgets.Text\n",
    "# ipywidgets.Button\n",
    "\n",
    "text_area = ipywidgets.Text()\n",
    "text_area"
   ]
  },
  {
   "cell_type": "code",
   "execution_count": 29,
   "metadata": {},
   "outputs": [
    {
     "data": {
      "text/plain": [
       "''"
      ]
     },
     "execution_count": 29,
     "metadata": {},
     "output_type": "execute_result"
    }
   ],
   "source": [
    "text_area.value"
   ]
  },
  {
   "cell_type": "code",
   "execution_count": 30,
   "metadata": {},
   "outputs": [
    {
     "data": {
      "application/vnd.jupyter.widget-view+json": {
       "model_id": "d6b5b68f6ee74ca3ab87612f228bb4ba",
       "version_major": 2,
       "version_minor": 0
      },
      "text/plain": [
       "Button(description='Regenerate!', style=ButtonStyle())"
      ]
     },
     "metadata": {},
     "output_type": "display_data"
    }
   ],
   "source": [
    "my_button = ipywidgets.Button(description='Regenerate!')\n",
    "my_button"
   ]
  },
  {
   "cell_type": "code",
   "execution_count": 31,
   "metadata": {},
   "outputs": [
    {
     "data": {
      "application/vnd.jupyter.widget-view+json": {
       "model_id": "1abdb5740779439e99208f01e6532e63",
       "version_major": 2,
       "version_minor": 0
      },
      "text/plain": [
       "VBox(children=(Text(value=''), Button(description='Regenerate!', style=ButtonStyle()), Figure(axes=[Axis(label…"
      ]
     },
     "metadata": {},
     "output_type": "display_data"
    }
   ],
   "source": [
    "# Change number of bins by user input\n",
    "\n",
    "# Scale\n",
    "x_sc = bqplot.LinearScale()\n",
    "y_sc = bqplot.LinearScale()\n",
    "\n",
    "# Axis\n",
    "x_ax = bqplot.Axis(scale=x_sc, label='Duration in seconds')\n",
    "y_ax = bqplot.Axis(scale=y_sc, label='count', orientation='vertical')\n",
    "\n",
    "# Mark\n",
    "hist = bqplot.Hist(sample=df['duration'], \n",
    "                   scales={'sample':x_sc, 'count':y_sc}, \n",
    "                   bins=50)\n",
    "\n",
    "# Interaction: User input\n",
    "\n",
    "text_area = ipywidgets.Text()\n",
    "my_button = ipywidgets.Button(description='Regenerate!')\n",
    "\n",
    "def regenerate_func(button):\n",
    "    user_input = text_area.value\n",
    "    user_input = int(user_input)\n",
    "    hist.bins = user_input\n",
    "\n",
    "my_button.on_click(regenerate_func)\n",
    "\n",
    "# Fig\n",
    "hist_fig = bqplot.Figure(marks=[hist], axes=[x_ax, y_ax])\n",
    "hist_fig_regen = ipywidgets.VBox([text_area, my_button, hist_fig])\n",
    "hist_fig_regen"
   ]
  },
  {
   "cell_type": "markdown",
   "metadata": {},
   "source": [
    "# Brush selection: Selet an area in a scatter plot"
   ]
  },
  {
   "cell_type": "code",
   "execution_count": 32,
   "metadata": {
    "scrolled": false
   },
   "outputs": [
    {
     "data": {
      "application/vnd.jupyter.widget-view+json": {
       "model_id": "b4d153903a5845039063b8b3f57e869d",
       "version_major": 2,
       "version_minor": 0
      },
      "text/plain": [
       "VBox(children=(HTML(value=''), HTML(value=''), Figure(axes=[Axis(label='Year Sighted', scale=LinearScale()), A…"
      ]
     },
     "metadata": {},
     "output_type": "display_data"
    }
   ],
   "source": [
    "# Brush, along x\n",
    "\n",
    "# Scale\n",
    "x_sc = bqplot.LinearScale()\n",
    "y_sc = bqplot.LinearScale()\n",
    "\n",
    "clr = np.log10(df['duration'])\n",
    "c_sc = bqplot.ColorScale(scheme='Oranges', \n",
    "                         min= np.nanmin(clr) , \n",
    "                         max= np.nanmax(clr))\n",
    "\n",
    "# Axis\n",
    "x_ax = bqplot.Axis(scale=x_sc, label='Year Sighted')\n",
    "y_ax = bqplot.Axis(scale=y_sc, label='Year Reported', \n",
    "                   orientation='vertical')\n",
    "\n",
    "c_ax = bqplot.ColorAxis(scale=c_sc, side='right')\n",
    "\n",
    "# Mark\n",
    "scatter = bqplot.Scatter(x=df['date_sighted'].dt.year, \n",
    "                         y=df['date_reported'].dt.year,\n",
    "                         scales={'x':x_sc, 'y':y_sc, \n",
    "                                 'color':c_sc}, \n",
    "                         color=clr)\n",
    "\n",
    "# Interaction: Brush\n",
    "my_brush = bqplot.interacts.BrushIntervalSelector(scale=x_sc, \n",
    "                                                  marks=[scatter])\n",
    "\n",
    "selected_range = ipywidgets.HTML()\n",
    "num_of_points_selected = ipywidgets.HTML()\n",
    "def select_func(change):\n",
    "    my_brush_selected = my_brush.selected\n",
    "    scatter_selected = scatter.selected\n",
    "    \n",
    "    selected_range.value = 'selected range: {}'.format(my_brush_selected)\n",
    "    num_of_points_selected.value = 'number of selected points: {}'.format(len(scatter_selected))\n",
    "    #print('my_brush_selected:', my_brush_selected)\n",
    "    #print('scatter_selected:', scatter_selected)\n",
    "\n",
    "\n",
    "my_brush.observe(select_func, 'selected')\n",
    "\n",
    "# fig\n",
    "scatter_fig = bqplot.Figure(marks=[scatter], axes=[x_ax, y_ax, c_ax], \n",
    "                            interaction=my_brush)\n",
    "scatter_fig_annotated = ipywidgets.VBox([selected_range, \n",
    "                                         num_of_points_selected, \n",
    "                                         scatter_fig])\n",
    "scatter_fig_annotated"
   ]
  },
  {
   "cell_type": "code",
   "execution_count": 33,
   "metadata": {},
   "outputs": [
    {
     "data": {
      "application/vnd.jupyter.widget-view+json": {
       "model_id": "a92917c5042e4c4ca2130d61fff2352d",
       "version_major": 2,
       "version_minor": 0
      },
      "text/plain": [
       "VBox(children=(HTML(value=''), HTML(value=''), Figure(axes=[Axis(label='Year Sighted', scale=LinearScale()), A…"
      ]
     },
     "metadata": {},
     "output_type": "display_data"
    }
   ],
   "source": [
    "# Brush, along y\n",
    "\n",
    "# Scale\n",
    "x_sc = bqplot.LinearScale()\n",
    "y_sc = bqplot.LinearScale()\n",
    "\n",
    "clr = np.log10(df['duration'])\n",
    "c_sc = bqplot.ColorScale(scheme='Oranges', \n",
    "                         min= np.nanmin(clr) , \n",
    "                         max= np.nanmax(clr))\n",
    "\n",
    "# Axis\n",
    "x_ax = bqplot.Axis(scale=x_sc, label='Year Sighted')\n",
    "y_ax = bqplot.Axis(scale=y_sc, label='Year Reported', \n",
    "                   orientation='vertical')\n",
    "\n",
    "c_ax = bqplot.ColorAxis(scale=c_sc, side='right')\n",
    "\n",
    "# Mark\n",
    "scatter = bqplot.Scatter(x=df['date_sighted'].dt.year, \n",
    "                         y=df['date_reported'].dt.year,\n",
    "                         scales={'x':x_sc, 'y':y_sc, \n",
    "                                 'color':c_sc}, \n",
    "                         color=clr)\n",
    "\n",
    "# Interaction: Brush\n",
    "my_brush = bqplot.interacts.BrushIntervalSelector(scale=y_sc, \n",
    "                                                  marks=[scatter], \n",
    "                                                  orientation='vertical')\n",
    "\n",
    "selected_range = ipywidgets.HTML()\n",
    "num_of_points_selected = ipywidgets.HTML()\n",
    "def select_func(change):\n",
    "    my_brush_selected = my_brush.selected\n",
    "    scatter_selected = scatter.selected\n",
    "    \n",
    "    selected_range.value = 'selected range: {}'.format(my_brush_selected)\n",
    "    num_of_points_selected.value = 'number of selected points: {}'.format(len(scatter_selected))\n",
    "    #print('my_brush_selected:', my_brush_selected)\n",
    "    #print('scatter_selected:', scatter_selected)\n",
    "\n",
    "\n",
    "my_brush.observe(select_func, 'selected')\n",
    "\n",
    "# fig\n",
    "scatter_fig = bqplot.Figure(marks=[scatter], axes=[x_ax, y_ax, c_ax], \n",
    "                            interaction=my_brush)\n",
    "scatter_fig_annotated = ipywidgets.VBox([selected_range, \n",
    "                                         num_of_points_selected, \n",
    "                                         scatter_fig])\n",
    "scatter_fig_annotated"
   ]
  },
  {
   "cell_type": "code",
   "execution_count": null,
   "metadata": {},
   "outputs": [],
   "source": []
  }
 ],
 "metadata": {
  "kernelspec": {
   "display_name": "Python 3",
   "language": "python",
   "name": "python3"
  },
  "language_info": {
   "codemirror_mode": {
    "name": "ipython",
    "version": 3
   },
   "file_extension": ".py",
   "mimetype": "text/x-python",
   "name": "python",
   "nbconvert_exporter": "python",
   "pygments_lexer": "ipython3",
   "version": "3.8.5"
  }
 },
 "nbformat": 4,
 "nbformat_minor": 4
}
